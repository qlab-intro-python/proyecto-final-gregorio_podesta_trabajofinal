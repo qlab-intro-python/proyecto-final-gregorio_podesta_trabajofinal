{
 "cells": [
  {
   "cell_type": "markdown",
   "metadata": {},
   "source": [
    "# **Proyecto final**"
   ]
  },
  {
   "cell_type": "markdown",
   "metadata": {},
   "source": [
    "Curso:          Fundamentos de Programación en Python para Macroeconomía y Finanzas     \n",
    "Profesor:       Victor Fuentes Campos     "
   ]
  },
  {
   "cell_type": "markdown",
   "metadata": {},
   "source": [
    "- Fecha y hora de entrega: Jueves 18 de enero, 9:59pm. **NO HABRÁN PRÓRROGAS**\n",
    "- Grupos de dos personas por elección libre\n",
    "- Envíe su tarea haciendo el `push` de su código a su repo en GitHub Classroom"
   ]
  },
  {
   "cell_type": "markdown",
   "metadata": {},
   "source": [
    "El propósito de este proyecto es que tengan un código de su autoría publicado en GitHub"
   ]
  },
  {
   "cell_type": "markdown",
   "metadata": {},
   "source": [
    "## Página web"
   ]
  },
  {
   "cell_type": "markdown",
   "metadata": {},
   "source": [
    "> Según lo discutido en la última clase, **deberán crear su propia página web usando GitHub Pages**. En ella, deberán mostrar el notebook de su proyecto final\n",
    "\n",
    "Recursos adicionales:\n",
    "\n",
    "1. Videos tutoriales\n",
    "    - https://www.youtube.com/watch?v=zyGfECfJ9BY\n",
    "    - https://www.youtube.com/watch?v=K5xImVmm2Ds\n",
    "\n",
    "\n",
    "2. Plantillas\n",
    "    - https://bootstrapmade.com/bootstrap-portfolio-templates/\n",
    "    - https://cssauthor.com/free-bootstrap-portfolio-templates/"
   ]
  },
  {
   "cell_type": "markdown",
   "metadata": {},
   "source": [
    "Incluya aquí el link de sus páginas web\n",
    "- Integrante 1: Mateo Podestá\n",
    "- Integrante 2: Marco Gregorio"
   ]
  },
  {
   "cell_type": "markdown",
   "metadata": {},
   "source": [
    "## Aplicación"
   ]
  },
  {
   "cell_type": "markdown",
   "metadata": {},
   "source": [
    "Pautas generales\n",
    "\n",
    "- Insumos: deberán trabajar al menos dos (2) bases de datos diferentes que requieran alguna transformación (`data wrangling`). Una de ellas tiene que ser un archivo de texto (`.txt`, `.pdf`, `.docx`, etc)\n",
    "- Tareas: (i) explicar la relevancia del análisis a desarrollar; (ii) utilizar al menos una vez listas, loops y functions para transformar la base de datos cruda y obtener información relevanete; y (iii) aplicar algoritmos de NLP para transformar texto en datos valiosos\n",
    "- Deberán proveer obligatoriamente gráficos (2 o más) y tablas/cuadros (2 o más) de su libre elección y conclusiones relevantes"
   ]
  },
  {
   "cell_type": "markdown",
   "metadata": {},
   "source": [
    "Posibles datos para el ejercicio de `data wrangling`\n",
    "\n",
    "- Estadísticas de 100 años del BCRP. Más [aquí](https://www.bcrp.gob.pe/en/estadisticas/estadisticas-de-100-anos-del-bcrp.html)\n",
    "- 1,000 años de datos macroeconómicos en Reino Unido. Más [aquí](https://www.kaggle.com/datasets/bank-of-england/a-millennium-of-macroeconomic-data)\n",
    "- Historial crediticio - Datathon Interbank 2020. Más [aquí](https://www.kaggle.com/competitions/interbank20/data?select=censo_test.csv)\n",
    "- Ataques terroristas en el mundo. Más [aquí](https://www.kaggle.com/code/gpreda/global-terrorist-attacks/input)\n",
    "- [World Hapiness Report 2023](https://worldhappiness.report/), compilado por Carla Solís. Más [aquí](https://raw.githubusercontent.com/ccsuehara/python_para_las_ccss/main/Clase%205/data/world-happiness-report-2023.csv)\n",
    "- Otros datos del BCRP, MEF, SBS, SMV, BVL, INEI, etc.\n",
    "- Cualquier otra base de datos que consideren relevante. En este caso, también deberán proveer la base de datos original en el repo. De ser muy grande, deberá ofrecer un link a la plataforma de almacenamiento en la nuba de su elección (Dropbox, Drive, OneDrive, etc) que permita el acceso a dichos datos\n"
   ]
  },
  {
   "cell_type": "markdown",
   "metadata": {},
   "source": [
    "Posibles datos para el ejercicio de NLP\n",
    "\n",
    "- Federal Open Market Committee (FOMC) meetings statements. Más [aquí](https://www.federalreserve.gov/monetarypolicy/fomccalendars.htm). El repo incluye tres archivos `.docx`\n",
    "- Programa Monetario del Banco Central de Reserva del Perú (BCRP). Más [aquí](https://www.bcrp.gob.pe/transparencia/actividades-oficiales/notas-informativas.html). El repo incluye tres archivos `.pdf`\n",
    "- Mensajes presidenciales de Carla Solís y Luis Eduardo San Martín. [Acá](https://github.com/ccsuehara/Peruvian-presidents-speeches/tree/master/data/presidentialSpeechPeru/txt) los archivos\n",
    "- \"Fake vs real news\" de George McIntire. Más info [aquí](https://opendatascience.com/how-to-build-a-fake-news-classification-model/). La base de datos está alojada en su [repo](https://github.com/GeorgeMcIntire/fake_real_news_dataset?tab=readme-ov-file)\n",
    "- Coronavirus tweets de Kaggle. Más info [aquí](https://www.kaggle.com/datasets/datatattle/covid-19-nlp-text-classification)\n",
    "- Twitter Financial News de Kaggle. Más infor [aquí](https://www.kaggle.com/datasets/sulphatet/twitter-financial-news)\n",
    "- Cualquier otra base de datos que consideren relevante. En este caso, también deberán proveer la base de datos original en el repo. De ser muy grande, deberá ofrecer un link a la plataforma de almacenamiento en la nuba de su elección (Dropbox, Drive, OneDrive, etc) que permita el acceso a dichos datos"
   ]
  },
  {
   "cell_type": "markdown",
   "metadata": {},
   "source": [
    "### NLP"
   ]
  },
  {
   "cell_type": "markdown",
   "metadata": {},
   "source": [
    "#### Primer caso: Twitter Financial News"
   ]
  },
  {
   "cell_type": "markdown",
   "metadata": {},
   "source": [
    "Usaremos Twitter Financial News, extraido de Kaggle. El databse a emplear se encuentra en el repo. Este análisis crucial debido a la influencia creciente de las redes sociales en las decisiones financieras. La plataforma es vital para la difusión instantánea de noticias, y el NLP permite extraer insights valiosos al analizar grandes cantidades de texto, identificando tendencias, evaluando el sentimiento del mercado y anticipando movimientos financieros. Esta metodología agiliza la obtención de información clave, facilitando decisiones informadas en el ámbito financiero y proporcionando a los inversores una ventaja competitiva."
   ]
  },
  {
   "cell_type": "code",
   "execution_count": 60,
   "metadata": {},
   "outputs": [],
   "source": [
    "import pandas as pd\n",
    "import seaborn as sns\n",
    "import matplotlib as plt\n",
    "import re"
   ]
  },
  {
   "cell_type": "code",
   "execution_count": 61,
   "metadata": {},
   "outputs": [
    {
     "name": "stdout",
     "output_type": "stream",
     "text": [
      "Shape of data: (16990, 2)\n",
      "Columns in data: Index(['text', 'label'], dtype='object')\n",
      "The dataset holds documents annotated with 20 labels: LABEL_0: Analyst Update, LABEL_1: Fed | Central Banks, LABEL_2: Company | Product News, LABEL_3: Treasuries | Corporate Debt, LABEL_4: Dividend, LABEL_5: Earnings, LABEL_6: Energy | Oil, LABEL_7: Financials, LABEL_8: Currencies, LABEL_9: General News | Opinion, LABEL_10: Gold | Metals | Materials, LABEL_11: IPO, LABEL_12: Legal | Regulation, LABEL_13: M&A | Investments, LABEL_14: Macro, LABEL_15: Markets, LABEL_16: Politics, LABEL_17: Personnel Change, LABEL_18: Stock Commentary, LABEL_19: Stock Movement\n"
     ]
    }
   ],
   "source": [
    "#usaremos el train data\n",
    "finance_df = pd.read_csv(\"train_data.csv\")\n",
    "print(f\"Shape of data: {finance_df.shape}\")\n",
    "print(f\"Columns in data: {finance_df.columns}\")\n",
    "print(\"The dataset holds documents annotated with 20 labels: LABEL_0: Analyst Update, LABEL_1: Fed | Central Banks, LABEL_2: Company | Product News, LABEL_3: Treasuries | Corporate Debt, LABEL_4: Dividend, LABEL_5: Earnings, LABEL_6: Energy | Oil, LABEL_7: Financials, LABEL_8: Currencies, LABEL_9: General News | Opinion, LABEL_10: Gold | Metals | Materials, LABEL_11: IPO, LABEL_12: Legal | Regulation, LABEL_13: M&A | Investments, LABEL_14: Macro, LABEL_15: Markets, LABEL_16: Politics, LABEL_17: Personnel Change, LABEL_18: Stock Commentary, LABEL_19: Stock Movement\")"
   ]
  },
  {
   "cell_type": "markdown",
   "metadata": {},
   "source": [
    "Análisis exploratorio y Sampling"
   ]
  },
  {
   "cell_type": "code",
   "execution_count": 62,
   "metadata": {},
   "outputs": [
    {
     "data": {
      "text/plain": [
       "text     object\n",
       "label     int64\n",
       "dtype: object"
      ]
     },
     "execution_count": 62,
     "metadata": {},
     "output_type": "execute_result"
    }
   ],
   "source": [
    "finance_df.dtypes"
   ]
  },
  {
   "cell_type": "code",
   "execution_count": 63,
   "metadata": {},
   "outputs": [
    {
     "data": {
      "text/html": [
       "<div>\n",
       "<style scoped>\n",
       "    .dataframe tbody tr th:only-of-type {\n",
       "        vertical-align: middle;\n",
       "    }\n",
       "\n",
       "    .dataframe tbody tr th {\n",
       "        vertical-align: top;\n",
       "    }\n",
       "\n",
       "    .dataframe thead th {\n",
       "        text-align: right;\n",
       "    }\n",
       "</style>\n",
       "<table border=\"1\" class=\"dataframe\">\n",
       "  <thead>\n",
       "    <tr style=\"text-align: right;\">\n",
       "      <th></th>\n",
       "      <th>text</th>\n",
       "      <th>label</th>\n",
       "    </tr>\n",
       "  </thead>\n",
       "  <tbody>\n",
       "    <tr>\n",
       "      <th>0</th>\n",
       "      <td>Here are Thursday's biggest analyst calls: App...</td>\n",
       "      <td>0</td>\n",
       "    </tr>\n",
       "    <tr>\n",
       "      <th>1</th>\n",
       "      <td>Buy Las Vegas Sands as travel to Singapore bui...</td>\n",
       "      <td>0</td>\n",
       "    </tr>\n",
       "    <tr>\n",
       "      <th>2</th>\n",
       "      <td>Piper Sandler downgrades DocuSign to sell, cit...</td>\n",
       "      <td>0</td>\n",
       "    </tr>\n",
       "    <tr>\n",
       "      <th>3</th>\n",
       "      <td>Analysts react to Tesla's latest earnings, bre...</td>\n",
       "      <td>0</td>\n",
       "    </tr>\n",
       "    <tr>\n",
       "      <th>4</th>\n",
       "      <td>Netflix and its peers are set for a ‘return to...</td>\n",
       "      <td>0</td>\n",
       "    </tr>\n",
       "  </tbody>\n",
       "</table>\n",
       "</div>"
      ],
      "text/plain": [
       "                                                text  label\n",
       "0  Here are Thursday's biggest analyst calls: App...      0\n",
       "1  Buy Las Vegas Sands as travel to Singapore bui...      0\n",
       "2  Piper Sandler downgrades DocuSign to sell, cit...      0\n",
       "3  Analysts react to Tesla's latest earnings, bre...      0\n",
       "4  Netflix and its peers are set for a ‘return to...      0"
      ]
     },
     "execution_count": 63,
     "metadata": {},
     "output_type": "execute_result"
    }
   ],
   "source": [
    "finance_df.head()"
   ]
  },
  {
   "cell_type": "code",
   "execution_count": 64,
   "metadata": {},
   "outputs": [
    {
     "name": "stdout",
     "output_type": "stream",
     "text": [
      "Shape of sample: (5097, 2)\n"
     ]
    }
   ],
   "source": [
    "finance_sample = finance_df.sample(frac=0.3, random_state=100)\n",
    "print(f'Shape of sample: {finance_sample.shape}')"
   ]
  },
  {
   "cell_type": "code",
   "execution_count": 65,
   "metadata": {},
   "outputs": [
    {
     "data": {
      "text/html": [
       "<div>\n",
       "<style scoped>\n",
       "    .dataframe tbody tr th:only-of-type {\n",
       "        vertical-align: middle;\n",
       "    }\n",
       "\n",
       "    .dataframe tbody tr th {\n",
       "        vertical-align: top;\n",
       "    }\n",
       "\n",
       "    .dataframe thead th {\n",
       "        text-align: right;\n",
       "    }\n",
       "</style>\n",
       "<table border=\"1\" class=\"dataframe\">\n",
       "  <thead>\n",
       "    <tr style=\"text-align: right;\">\n",
       "      <th></th>\n",
       "      <th>text</th>\n",
       "      <th>label</th>\n",
       "    </tr>\n",
       "  </thead>\n",
       "  <tbody>\n",
       "    <tr>\n",
       "      <th>6559</th>\n",
       "      <td>Richmond Fed President Thomas Barkin kept his ...</td>\n",
       "      <td>1</td>\n",
       "    </tr>\n",
       "    <tr>\n",
       "      <th>3875</th>\n",
       "      <td>Sterling stabilises vs dollar and euro as UK i...</td>\n",
       "      <td>8</td>\n",
       "    </tr>\n",
       "    <tr>\n",
       "      <th>12994</th>\n",
       "      <td>Mexican President Lopez Obrador will use his W...</td>\n",
       "      <td>16</td>\n",
       "    </tr>\n",
       "    <tr>\n",
       "      <th>12322</th>\n",
       "      <td>Alterna Equity Partners’ Robert Konrad Selecte...</td>\n",
       "      <td>17</td>\n",
       "    </tr>\n",
       "    <tr>\n",
       "      <th>10551</th>\n",
       "      <td>U.S. retail sales climb 1% in June — but highe...</td>\n",
       "      <td>14</td>\n",
       "    </tr>\n",
       "  </tbody>\n",
       "</table>\n",
       "</div>"
      ],
      "text/plain": [
       "                                                    text  label\n",
       "6559   Richmond Fed President Thomas Barkin kept his ...      1\n",
       "3875   Sterling stabilises vs dollar and euro as UK i...      8\n",
       "12994  Mexican President Lopez Obrador will use his W...     16\n",
       "12322  Alterna Equity Partners’ Robert Konrad Selecte...     17\n",
       "10551  U.S. retail sales climb 1% in June — but highe...     14"
      ]
     },
     "execution_count": 65,
     "metadata": {},
     "output_type": "execute_result"
    }
   ],
   "source": [
    "finance_sample.head()"
   ]
  },
  {
   "cell_type": "code",
   "execution_count": 66,
   "metadata": {},
   "outputs": [
    {
     "data": {
      "text/plain": [
       "<Axes: xlabel='label', ylabel='count'>"
      ]
     },
     "execution_count": 66,
     "metadata": {},
     "output_type": "execute_result"
    },
    {
     "data": {
      "image/png": "[encoded data removed]",
      "text/plain": [
       "<Figure size 640x480 with 1 Axes>"
      ]
     },
     "metadata": {},
     "output_type": "display_data"
    }
   ],
   "source": [
    "#Conteo de targets\n",
    "sns.countplot(x = finance_sample['label'], data=finance_sample, palette='hls')"
   ]
  },
  {
   "cell_type": "markdown",
   "metadata": {},
   "source": [
    "Preprocesamiento de texto"
   ]
  },
  {
   "cell_type": "code",
   "execution_count": 67,
   "metadata": {},
   "outputs": [
    {
     "data": {
      "text/html": [
       "<div>\n",
       "<style scoped>\n",
       "    .dataframe tbody tr th:only-of-type {\n",
       "        vertical-align: middle;\n",
       "    }\n",
       "\n",
       "    .dataframe tbody tr th {\n",
       "        vertical-align: top;\n",
       "    }\n",
       "\n",
       "    .dataframe thead th {\n",
       "        text-align: right;\n",
       "    }\n",
       "</style>\n",
       "<table border=\"1\" class=\"dataframe\">\n",
       "  <thead>\n",
       "    <tr style=\"text-align: right;\">\n",
       "      <th></th>\n",
       "      <th>text</th>\n",
       "      <th>label</th>\n",
       "    </tr>\n",
       "  </thead>\n",
       "  <tbody>\n",
       "    <tr>\n",
       "      <th>6559</th>\n",
       "      <td>richmond fed president thomas barkin kept his ...</td>\n",
       "      <td>1</td>\n",
       "    </tr>\n",
       "    <tr>\n",
       "      <th>3875</th>\n",
       "      <td>sterling stabilises vs dollar and euro as uk i...</td>\n",
       "      <td>8</td>\n",
       "    </tr>\n",
       "    <tr>\n",
       "      <th>12994</th>\n",
       "      <td>mexican president lopez obrador will use his w...</td>\n",
       "      <td>16</td>\n",
       "    </tr>\n",
       "    <tr>\n",
       "      <th>12322</th>\n",
       "      <td>alterna equity partners  robert konrad selecte...</td>\n",
       "      <td>17</td>\n",
       "    </tr>\n",
       "    <tr>\n",
       "      <th>10551</th>\n",
       "      <td>u s  retail sales climb    in june   but highe...</td>\n",
       "      <td>14</td>\n",
       "    </tr>\n",
       "  </tbody>\n",
       "</table>\n",
       "</div>"
      ],
      "text/plain": [
       "                                                    text  label\n",
       "6559   richmond fed president thomas barkin kept his ...      1\n",
       "3875   sterling stabilises vs dollar and euro as uk i...      8\n",
       "12994  mexican president lopez obrador will use his w...     16\n",
       "12322  alterna equity partners  robert konrad selecte...     17\n",
       "10551  u s  retail sales climb    in june   but highe...     14"
      ]
     },
     "execution_count": 67,
     "metadata": {},
     "output_type": "execute_result"
    }
   ],
   "source": [
    "with pd.option_context('mode.chained_assignment', None): #esta primera linea de texto está tomada de stack overflow: me daba un warning que era muy molesto\n",
    "  for index, row in finance_sample.iterrows():\n",
    "    finance_sample['text'][index] = re.sub('http://\\S+|https://\\S+', '', finance_sample['text'][index]) #eliminamos los links\n",
    "\n",
    "finance_sample['text'] = finance_sample['text'].str.lower() #convertimos a minusculas\n",
    "\n",
    "import re\n",
    "def punctuation(inputs):\n",
    "    return re.sub(r'[^A-Za-z\\s]', ' ', inputs) #hemos notado que las palabras más comunes eran números del 0 al 9. decidimos quitarlos\n",
    "\n",
    "finance_sample['text'] = finance_sample['text'].apply(punctuation) #eliminamos los caracteres especiales\n",
    "\n",
    "finance_sample.head()"
   ]
  },
  {
   "cell_type": "code",
   "execution_count": 68,
   "metadata": {},
   "outputs": [
    {
     "data": {
      "text/html": [
       "<div>\n",
       "<style scoped>\n",
       "    .dataframe tbody tr th:only-of-type {\n",
       "        vertical-align: middle;\n",
       "    }\n",
       "\n",
       "    .dataframe tbody tr th {\n",
       "        vertical-align: top;\n",
       "    }\n",
       "\n",
       "    .dataframe thead th {\n",
       "        text-align: right;\n",
       "    }\n",
       "</style>\n",
       "<table border=\"1\" class=\"dataframe\">\n",
       "  <thead>\n",
       "    <tr style=\"text-align: right;\">\n",
       "      <th></th>\n",
       "      <th>text</th>\n",
       "      <th>label</th>\n",
       "    </tr>\n",
       "  </thead>\n",
       "  <tbody>\n",
       "    <tr>\n",
       "      <th>6559</th>\n",
       "      <td>richmond fed president thomas barkin kept his ...</td>\n",
       "      <td>1</td>\n",
       "    </tr>\n",
       "    <tr>\n",
       "      <th>3875</th>\n",
       "      <td>sterling stabilises vs dollar and euro as uk i...</td>\n",
       "      <td>8</td>\n",
       "    </tr>\n",
       "    <tr>\n",
       "      <th>12994</th>\n",
       "      <td>mexican president lopez obrador will use his w...</td>\n",
       "      <td>16</td>\n",
       "    </tr>\n",
       "    <tr>\n",
       "      <th>12322</th>\n",
       "      <td>alterna equity partners  robert konrad selecte...</td>\n",
       "      <td>17</td>\n",
       "    </tr>\n",
       "    <tr>\n",
       "      <th>10551</th>\n",
       "      <td>u s  retail sales climb    in june   but highe...</td>\n",
       "      <td>14</td>\n",
       "    </tr>\n",
       "  </tbody>\n",
       "</table>\n",
       "</div>"
      ],
      "text/plain": [
       "                                                    text  label\n",
       "6559   richmond fed president thomas barkin kept his ...      1\n",
       "3875   sterling stabilises vs dollar and euro as uk i...      8\n",
       "12994  mexican president lopez obrador will use his w...     16\n",
       "12322  alterna equity partners  robert konrad selecte...     17\n",
       "10551  u s  retail sales climb    in june   but highe...     14"
      ]
     },
     "execution_count": 68,
     "metadata": {},
     "output_type": "execute_result"
    }
   ],
   "source": [
    "finance_sample.head()"
   ]
  },
  {
   "cell_type": "code",
   "execution_count": 69,
   "metadata": {},
   "outputs": [
    {
     "name": "stderr",
     "output_type": "stream",
     "text": [
      "[nltk_data] Downloading package punkt to\n",
      "[nltk_data]     C:\\Users\\USUARIO\\AppData\\Roaming\\nltk_data...\n",
      "[nltk_data]   Package punkt is already up-to-date!\n"
     ]
    },
    {
     "data": {
      "text/plain": [
       "6559     [richmond, fed, president, thomas, barkin, kep...\n",
       "3875     [sterling, stabilises, vs, dollar, and, euro, ...\n",
       "12994    [mexican, president, lopez, obrador, will, use...\n",
       "12322    [alterna, equity, partners, robert, konrad, se...\n",
       "10551    [u, s, retail, sales, climb, in, june, but, hi...\n",
       "Name: text_tokenized, dtype: object"
      ]
     },
     "execution_count": 69,
     "metadata": {},
     "output_type": "execute_result"
    }
   ],
   "source": [
    "#tokenizamos:\n",
    "import nltk\n",
    "nltk.download('punkt')\n",
    "from nltk.tokenize import word_tokenize\n",
    "\n",
    "def tokenization(inputs):\n",
    "    return word_tokenize(inputs)\n",
    "\n",
    "finance_sample['text_tokenized'] = finance_sample['text'].apply(tokenization)\n",
    "finance_sample['text_tokenized'].head()"
   ]
  },
  {
   "cell_type": "code",
   "execution_count": 70,
   "metadata": {},
   "outputs": [
    {
     "name": "stderr",
     "output_type": "stream",
     "text": [
      "[nltk_data] Downloading package stopwords to\n",
      "[nltk_data]     C:\\Users\\USUARIO\\AppData\\Roaming\\nltk_data...\n",
      "[nltk_data]   Package stopwords is already up-to-date!\n"
     ]
    },
    {
     "data": {
      "text/plain": [
       "6559     [richmond, fed, president, thomas, barkin, kep...\n",
       "3875     [sterling, stabilises, vs, dollar, euro, uk, i...\n",
       "12994    [mexican, president, lopez, obrador, use, whit...\n",
       "12322    [alterna, equity, partners, robert, konrad, se...\n",
       "10551    [u, retail, sales, climb, june, higher, prices...\n",
       "Name: text_stop, dtype: object"
      ]
     },
     "execution_count": 70,
     "metadata": {},
     "output_type": "execute_result"
    }
   ],
   "source": [
    "# Aplicamos las stopwords\n",
    "nltk.download('stopwords')\n",
    "from nltk.corpus import stopwords\n",
    "\n",
    "stop_words = set(stopwords.words('english'))\n",
    "stop_words.add(',') #también añadimos estos carácteres\n",
    "stop_words.add('.')\n",
    "stop_words.add('“')\n",
    "stop_words.add('’')\n",
    "\n",
    "\n",
    "def stopwords_remove(inputs):\n",
    "    return [word for word in inputs if word not in stop_words]\n",
    "\n",
    "finance_sample['text_stop'] = finance_sample['text_tokenized'].apply(stopwords_remove)\n",
    "finance_sample['text_stop'].head()"
   ]
  },
  {
   "cell_type": "code",
   "execution_count": 71,
   "metadata": {},
   "outputs": [
    {
     "name": "stderr",
     "output_type": "stream",
     "text": [
      "[nltk_data] Downloading package wordnet to\n",
      "[nltk_data]     C:\\Users\\USUARIO\\AppData\\Roaming\\nltk_data...\n",
      "[nltk_data]   Package wordnet is already up-to-date!\n",
      "[nltk_data] Downloading package omw-1.4 to\n",
      "[nltk_data]     C:\\Users\\USUARIO\\AppData\\Roaming\\nltk_data...\n",
      "[nltk_data]   Package omw-1.4 is already up-to-date!\n"
     ]
    }
   ],
   "source": [
    "# Lemmatización\n",
    "from nltk.stem.wordnet import WordNetLemmatizer\n",
    "nltk.download('wordnet')\n",
    "nltk.download('omw-1.4')\n",
    "\n",
    "lemmatizer = WordNetLemmatizer()\n",
    "exceptions = [\"fed\"] # hemos notado que el lemmatizer interpreta a FED (del banco de federal) como feed. No queremos eso\n",
    "\n",
    "def custom_lemmatizer(word):\n",
    " if word.lower() in exceptions:\n",
    "  return word\n",
    " else:\n",
    "  return lemmatizer.lemmatize(word, pos='v')\n",
    "\n",
    "def lemmatization(inputs):\n",
    " return [custom_lemmatizer(word=word) for word in inputs]\n",
    "\n",
    "finance_sample['text_lemmatized'] = finance_sample['text_stop'].apply(lemmatization)"
   ]
  },
  {
   "cell_type": "code",
   "execution_count": 72,
   "metadata": {},
   "outputs": [
    {
     "data": {
      "text/html": [
       "<div>\n",
       "<style scoped>\n",
       "    .dataframe tbody tr th:only-of-type {\n",
       "        vertical-align: middle;\n",
       "    }\n",
       "\n",
       "    .dataframe tbody tr th {\n",
       "        vertical-align: top;\n",
       "    }\n",
       "\n",
       "    .dataframe thead th {\n",
       "        text-align: right;\n",
       "    }\n",
       "</style>\n",
       "<table border=\"1\" class=\"dataframe\">\n",
       "  <thead>\n",
       "    <tr style=\"text-align: right;\">\n",
       "      <th></th>\n",
       "      <th>text</th>\n",
       "      <th>label</th>\n",
       "      <th>text_tokenized</th>\n",
       "      <th>text_stop</th>\n",
       "      <th>text_lemmatized</th>\n",
       "    </tr>\n",
       "  </thead>\n",
       "  <tbody>\n",
       "    <tr>\n",
       "      <th>6559</th>\n",
       "      <td>richmond fed president thomas barkin kept his ...</td>\n",
       "      <td>1</td>\n",
       "      <td>[richmond, fed, president, thomas, barkin, kep...</td>\n",
       "      <td>[richmond, fed, president, thomas, barkin, kep...</td>\n",
       "      <td>[richmond, fed, president, thomas, barkin, kee...</td>\n",
       "    </tr>\n",
       "    <tr>\n",
       "      <th>3875</th>\n",
       "      <td>sterling stabilises vs dollar and euro as uk i...</td>\n",
       "      <td>8</td>\n",
       "      <td>[sterling, stabilises, vs, dollar, and, euro, ...</td>\n",
       "      <td>[sterling, stabilises, vs, dollar, euro, uk, i...</td>\n",
       "      <td>[sterling, stabilise, vs, dollar, euro, uk, in...</td>\n",
       "    </tr>\n",
       "    <tr>\n",
       "      <th>12994</th>\n",
       "      <td>mexican president lopez obrador will use his w...</td>\n",
       "      <td>16</td>\n",
       "      <td>[mexican, president, lopez, obrador, will, use...</td>\n",
       "      <td>[mexican, president, lopez, obrador, use, whit...</td>\n",
       "      <td>[mexican, president, lopez, obrador, use, whit...</td>\n",
       "    </tr>\n",
       "    <tr>\n",
       "      <th>12322</th>\n",
       "      <td>alterna equity partners  robert konrad selecte...</td>\n",
       "      <td>17</td>\n",
       "      <td>[alterna, equity, partners, robert, konrad, se...</td>\n",
       "      <td>[alterna, equity, partners, robert, konrad, se...</td>\n",
       "      <td>[alterna, equity, partner, robert, konrad, sel...</td>\n",
       "    </tr>\n",
       "    <tr>\n",
       "      <th>10551</th>\n",
       "      <td>u s  retail sales climb    in june   but highe...</td>\n",
       "      <td>14</td>\n",
       "      <td>[u, s, retail, sales, climb, in, june, but, hi...</td>\n",
       "      <td>[u, retail, sales, climb, june, higher, prices...</td>\n",
       "      <td>[u, retail, sales, climb, june, higher, price,...</td>\n",
       "    </tr>\n",
       "  </tbody>\n",
       "</table>\n",
       "</div>"
      ],
      "text/plain": [
       "                                                    text  label  \\\n",
       "6559   richmond fed president thomas barkin kept his ...      1   \n",
       "3875   sterling stabilises vs dollar and euro as uk i...      8   \n",
       "12994  mexican president lopez obrador will use his w...     16   \n",
       "12322  alterna equity partners  robert konrad selecte...     17   \n",
       "10551  u s  retail sales climb    in june   but highe...     14   \n",
       "\n",
       "                                          text_tokenized  \\\n",
       "6559   [richmond, fed, president, thomas, barkin, kep...   \n",
       "3875   [sterling, stabilises, vs, dollar, and, euro, ...   \n",
       "12994  [mexican, president, lopez, obrador, will, use...   \n",
       "12322  [alterna, equity, partners, robert, konrad, se...   \n",
       "10551  [u, s, retail, sales, climb, in, june, but, hi...   \n",
       "\n",
       "                                               text_stop  \\\n",
       "6559   [richmond, fed, president, thomas, barkin, kep...   \n",
       "3875   [sterling, stabilises, vs, dollar, euro, uk, i...   \n",
       "12994  [mexican, president, lopez, obrador, use, whit...   \n",
       "12322  [alterna, equity, partners, robert, konrad, se...   \n",
       "10551  [u, retail, sales, climb, june, higher, prices...   \n",
       "\n",
       "                                         text_lemmatized  \n",
       "6559   [richmond, fed, president, thomas, barkin, kee...  \n",
       "3875   [sterling, stabilise, vs, dollar, euro, uk, in...  \n",
       "12994  [mexican, president, lopez, obrador, use, whit...  \n",
       "12322  [alterna, equity, partner, robert, konrad, sel...  \n",
       "10551  [u, retail, sales, climb, june, higher, price,...  "
      ]
     },
     "execution_count": 72,
     "metadata": {},
     "output_type": "execute_result"
    }
   ],
   "source": [
    "finance_sample.head()"
   ]
  },
  {
   "cell_type": "markdown",
   "metadata": {},
   "source": [
    "Visualization"
   ]
  },
  {
   "cell_type": "code",
   "execution_count": 73,
   "metadata": {},
   "outputs": [
    {
     "data": {
      "application/vnd.plotly.v1+json": {
       "config": {
        "plotlyServerURL": "https://plot.ly"
       },
       "data": [
        {
         "branchvalues": "total",
         "domain": {
          "x": [
           0,
           1
          ],
          "y": [
           0,
           1
          ]
         },
         "hovertemplate": "labels=%{label}<br>value=%{value}<br>parent=%{parent}<br>id=%{id}<extra></extra>",
         "ids": [
          "amp",
          "announce",
          "back",
          "bank",
          "beat",
          "business",
          "buy",
          "call",
          "china",
          "company",
          "earn",
          "economy",
          "energy",
          "fed",
          "finance",
          "first",
          "fund",
          "global",
          "inflation",
          "invest",
          "investors",
          "june",
          "market",
          "may",
          "new",
          "next",
          "oil",
          "president",
          "price",
          "q",
          "quarter",
          "rat",
          "rate",
          "report",
          "result",
          "revenue",
          "rise",
          "say",
          "second",
          "see",
          "share",
          "stock",
          "stockmarket",
          "time",
          "trade",
          "u",
          "uk",
          "us",
          "week",
          "year"
         ],
         "labels": [
          "amp",
          "announce",
          "back",
          "bank",
          "beat",
          "business",
          "buy",
          "call",
          "china",
          "company",
          "earn",
          "economy",
          "energy",
          "fed",
          "finance",
          "first",
          "fund",
          "global",
          "inflation",
          "invest",
          "investors",
          "june",
          "market",
          "may",
          "new",
          "next",
          "oil",
          "president",
          "price",
          "q",
          "quarter",
          "rat",
          "rate",
          "report",
          "result",
          "revenue",
          "rise",
          "say",
          "second",
          "see",
          "share",
          "stock",
          "stockmarket",
          "time",
          "trade",
          "u",
          "uk",
          "us",
          "week",
          "year"
         ],
         "name": "",
         "parents": [
          "",
          "",
          "",
          "",
          "",
          "",
          "",
          "",
          "",
          "",
          "",
          "",
          "",
          "",
          "",
          "",
          "",
          "",
          "",
          "",
          "",
          "",
          "",
          "",
          "",
          "",
          "",
          "",
          "",
          "",
          "",
          "",
          "",
          "",
          "",
          "",
          "",
          "",
          "",
          "",
          "",
          "",
          "",
          "",
          "",
          "",
          "",
          "",
          "",
          ""
         ],
         "type": "treemap",
         "values": [
          163,
          236,
          125,
          236,
          123,
          241,
          123,
          157,
          157,
          216,
          271,
          267,
          143,
          123,
          199,
          173,
          123,
          123,
          269,
          189,
          131,
          116,
          418,
          123,
          345,
          130,
          119,
          130,
          249,
          235,
          183,
          116,
          142,
          203,
          176,
          119,
          122,
          381,
          178,
          127,
          138,
          415,
          175,
          126,
          274,
          197,
          128,
          230,
          115,
          239
         ]
        }
       ],
       "layout": {
        "legend": {
         "tracegroupgap": 0
        },
        "margin": {
         "t": 60
        },
        "template": {
         "data": {
          "bar": [
           {
            "error_x": {
             "color": "#2a3f5f"
            },
            "error_y": {
             "color": "#2a3f5f"
            },
            "marker": {
             "line": {
              "color": "#E5ECF6",
              "width": 0.5
             },
             "pattern": {
              "fillmode": "overlay",
              "size": 10,
              "solidity": 0.2
             }
            },
            "type": "bar"
           }
          ],
          "barpolar": [
           {
            "marker": {
             "line": {
              "color": "#E5ECF6",
              "width": 0.5
             },
             "pattern": {
              "fillmode": "overlay",
              "size": 10,
              "solidity": 0.2
             }
            },
            "type": "barpolar"
           }
          ],
          "carpet": [
           {
            "aaxis": {
             "endlinecolor": "#2a3f5f",
             "gridcolor": "white",
             "linecolor": "white",
             "minorgridcolor": "white",
             "startlinecolor": "#2a3f5f"
            },
            "baxis": {
             "endlinecolor": "#2a3f5f",
             "gridcolor": "white",
             "linecolor": "white",
             "minorgridcolor": "white",
             "startlinecolor": "#2a3f5f"
            },
            "type": "carpet"
           }
          ],
          "choropleth": [
           {
            "colorbar": {
             "outlinewidth": 0,
             "ticks": ""
            },
            "type": "choropleth"
           }
          ],
          "contour": [
           {
            "colorbar": {
             "outlinewidth": 0,
             "ticks": ""
            },
            "colorscale": [
             [
              0,
              "#0d0887"
             ],
             [
              0.1111111111111111,
              "#46039f"
             ],
             [
              0.2222222222222222,
              "#7201a8"
             ],
             [
              0.3333333333333333,
              "#9c179e"
             ],
             [
              0.4444444444444444,
              "#bd3786"
             ],
             [
              0.5555555555555556,
              "#d8576b"
             ],
             [
              0.6666666666666666,
              "#ed7953"
             ],
             [
              0.7777777777777778,
              "#fb9f3a"
             ],
             [
              0.8888888888888888,
              "#fdca26"
             ],
             [
              1,
              "#f0f921"
             ]
            ],
            "type": "contour"
           }
          ],
          "contourcarpet": [
           {
            "colorbar": {
             "outlinewidth": 0,
             "ticks": ""
            },
            "type": "contourcarpet"
           }
          ],
          "heatmap": [
           {
            "colorbar": {
             "outlinewidth": 0,
             "ticks": ""
            },
            "colorscale": [
             [
              0,
              "#0d0887"
             ],
             [
              0.1111111111111111,
              "#46039f"
             ],
             [
              0.2222222222222222,
              "#7201a8"
             ],
             [
              0.3333333333333333,
              "#9c179e"
             ],
             [
              0.4444444444444444,
              "#bd3786"
             ],
             [
              0.5555555555555556,
              "#d8576b"
             ],
             [
              0.6666666666666666,
              "#ed7953"
             ],
             [
              0.7777777777777778,
              "#fb9f3a"
             ],
             [
              0.8888888888888888,
              "#fdca26"
             ],
             [
              1,
              "#f0f921"
             ]
            ],
            "type": "heatmap"
           }
          ],
          "heatmapgl": [
           {
            "colorbar": {
             "outlinewidth": 0,
             "ticks": ""
            },
            "colorscale": [
             [
              0,
              "#0d0887"
             ],
             [
              0.1111111111111111,
              "#46039f"
             ],
             [
              0.2222222222222222,
              "#7201a8"
             ],
             [
              0.3333333333333333,
              "#9c179e"
             ],
             [
              0.4444444444444444,
              "#bd3786"
             ],
             [
              0.5555555555555556,
              "#d8576b"
             ],
             [
              0.6666666666666666,
              "#ed7953"
             ],
             [
              0.7777777777777778,
              "#fb9f3a"
             ],
             [
              0.8888888888888888,
              "#fdca26"
             ],
             [
              1,
              "#f0f921"
             ]
            ],
            "type": "heatmapgl"
           }
          ],
          "histogram": [
           {
            "marker": {
             "pattern": {
              "fillmode": "overlay",
              "size": 10,
              "solidity": 0.2
             }
            },
            "type": "histogram"
           }
          ],
          "histogram2d": [
           {
            "colorbar": {
             "outlinewidth": 0,
             "ticks": ""
            },
            "colorscale": [
             [
              0,
              "#0d0887"
             ],
             [
              0.1111111111111111,
              "#46039f"
             ],
             [
              0.2222222222222222,
              "#7201a8"
             ],
             [
              0.3333333333333333,
              "#9c179e"
             ],
             [
              0.4444444444444444,
              "#bd3786"
             ],
             [
              0.5555555555555556,
              "#d8576b"
             ],
             [
              0.6666666666666666,
              "#ed7953"
             ],
             [
              0.7777777777777778,
              "#fb9f3a"
             ],
             [
              0.8888888888888888,
              "#fdca26"
             ],
             [
              1,
              "#f0f921"
             ]
            ],
            "type": "histogram2d"
           }
          ],
          "histogram2dcontour": [
           {
            "colorbar": {
             "outlinewidth": 0,
             "ticks": ""
            },
            "colorscale": [
             [
              0,
              "#0d0887"
             ],
             [
              0.1111111111111111,
              "#46039f"
             ],
             [
              0.2222222222222222,
              "#7201a8"
             ],
             [
              0.3333333333333333,
              "#9c179e"
             ],
             [
              0.4444444444444444,
              "#bd3786"
             ],
             [
              0.5555555555555556,
              "#d8576b"
             ],
             [
              0.6666666666666666,
              "#ed7953"
             ],
             [
              0.7777777777777778,
              "#fb9f3a"
             ],
             [
              0.8888888888888888,
              "#fdca26"
             ],
             [
              1,
              "#f0f921"
             ]
            ],
            "type": "histogram2dcontour"
           }
          ],
          "mesh3d": [
           {
            "colorbar": {
             "outlinewidth": 0,
             "ticks": ""
            },
            "type": "mesh3d"
           }
          ],
          "parcoords": [
           {
            "line": {
             "colorbar": {
              "outlinewidth": 0,
              "ticks": ""
             }
            },
            "type": "parcoords"
           }
          ],
          "pie": [
           {
            "automargin": true,
            "type": "pie"
           }
          ],
          "scatter": [
           {
            "fillpattern": {
             "fillmode": "overlay",
             "size": 10,
             "solidity": 0.2
            },
            "type": "scatter"
           }
          ],
          "scatter3d": [
           {
            "line": {
             "colorbar": {
              "outlinewidth": 0,
              "ticks": ""
             }
            },
            "marker": {
             "colorbar": {
              "outlinewidth": 0,
              "ticks": ""
             }
            },
            "type": "scatter3d"
           }
          ],
          "scattercarpet": [
           {
            "marker": {
             "colorbar": {
              "outlinewidth": 0,
              "ticks": ""
             }
            },
            "type": "scattercarpet"
           }
          ],
          "scattergeo": [
           {
            "marker": {
             "colorbar": {
              "outlinewidth": 0,
              "ticks": ""
             }
            },
            "type": "scattergeo"
           }
          ],
          "scattergl": [
           {
            "marker": {
             "colorbar": {
              "outlinewidth": 0,
              "ticks": ""
             }
            },
            "type": "scattergl"
           }
          ],
          "scattermapbox": [
           {
            "marker": {
             "colorbar": {
              "outlinewidth": 0,
              "ticks": ""
             }
            },
            "type": "scattermapbox"
           }
          ],
          "scatterpolar": [
           {
            "marker": {
             "colorbar": {
              "outlinewidth": 0,
              "ticks": ""
             }
            },
            "type": "scatterpolar"
           }
          ],
          "scatterpolargl": [
           {
            "marker": {
             "colorbar": {
              "outlinewidth": 0,
              "ticks": ""
             }
            },
            "type": "scatterpolargl"
           }
          ],
          "scatterternary": [
           {
            "marker": {
             "colorbar": {
              "outlinewidth": 0,
              "ticks": ""
             }
            },
            "type": "scatterternary"
           }
          ],
          "surface": [
           {
            "colorbar": {
             "outlinewidth": 0,
             "ticks": ""
            },
            "colorscale": [
             [
              0,
              "#0d0887"
             ],
             [
              0.1111111111111111,
              "#46039f"
             ],
             [
              0.2222222222222222,
              "#7201a8"
             ],
             [
              0.3333333333333333,
              "#9c179e"
             ],
             [
              0.4444444444444444,
              "#bd3786"
             ],
             [
              0.5555555555555556,
              "#d8576b"
             ],
             [
              0.6666666666666666,
              "#ed7953"
             ],
             [
              0.7777777777777778,
              "#fb9f3a"
             ],
             [
              0.8888888888888888,
              "#fdca26"
             ],
             [
              1,
              "#f0f921"
             ]
            ],
            "type": "surface"
           }
          ],
          "table": [
           {
            "cells": {
             "fill": {
              "color": "#EBF0F8"
             },
             "line": {
              "color": "white"
             }
            },
            "header": {
             "fill": {
              "color": "#C8D4E3"
             },
             "line": {
              "color": "white"
             }
            },
            "type": "table"
           }
          ]
         },
         "layout": {
          "annotationdefaults": {
           "arrowcolor": "#2a3f5f",
           "arrowhead": 0,
           "arrowwidth": 1
          },
          "autotypenumbers": "strict",
          "coloraxis": {
           "colorbar": {
            "outlinewidth": 0,
            "ticks": ""
           }
          },
          "colorscale": {
           "diverging": [
            [
             0,
             "#8e0152"
            ],
            [
             0.1,
             "#c51b7d"
            ],
            [
             0.2,
             "#de77ae"
            ],
            [
             0.3,
             "#f1b6da"
            ],
            [
             0.4,
             "#fde0ef"
            ],
            [
             0.5,
             "#f7f7f7"
            ],
            [
             0.6,
             "#e6f5d0"
            ],
            [
             0.7,
             "#b8e186"
            ],
            [
             0.8,
             "#7fbc41"
            ],
            [
             0.9,
             "#4d9221"
            ],
            [
             1,
             "#276419"
            ]
           ],
           "sequential": [
            [
             0,
             "#0d0887"
            ],
            [
             0.1111111111111111,
             "#46039f"
            ],
            [
             0.2222222222222222,
             "#7201a8"
            ],
            [
             0.3333333333333333,
             "#9c179e"
            ],
            [
             0.4444444444444444,
             "#bd3786"
            ],
            [
             0.5555555555555556,
             "#d8576b"
            ],
            [
             0.6666666666666666,
             "#ed7953"
            ],
            [
             0.7777777777777778,
             "#fb9f3a"
            ],
            [
             0.8888888888888888,
             "#fdca26"
            ],
            [
             1,
             "#f0f921"
            ]
           ],
           "sequentialminus": [
            [
             0,
             "#0d0887"
            ],
            [
             0.1111111111111111,
             "#46039f"
            ],
            [
             0.2222222222222222,
             "#7201a8"
            ],
            [
             0.3333333333333333,
             "#9c179e"
            ],
            [
             0.4444444444444444,
             "#bd3786"
            ],
            [
             0.5555555555555556,
             "#d8576b"
            ],
            [
             0.6666666666666666,
             "#ed7953"
            ],
            [
             0.7777777777777778,
             "#fb9f3a"
            ],
            [
             0.8888888888888888,
             "#fdca26"
            ],
            [
             1,
             "#f0f921"
            ]
           ]
          },
          "colorway": [
           "#636efa",
           "#EF553B",
           "#00cc96",
           "#ab63fa",
           "#FFA15A",
           "#19d3f3",
           "#FF6692",
           "#B6E880",
           "#FF97FF",
           "#FECB52"
          ],
          "font": {
           "color": "#2a3f5f"
          },
          "geo": {
           "bgcolor": "white",
           "lakecolor": "white",
           "landcolor": "#E5ECF6",
           "showlakes": true,
           "showland": true,
           "subunitcolor": "white"
          },
          "hoverlabel": {
           "align": "left"
          },
          "hovermode": "closest",
          "mapbox": {
           "style": "light"
          },
          "paper_bgcolor": "white",
          "plot_bgcolor": "#E5ECF6",
          "polar": {
           "angularaxis": {
            "gridcolor": "white",
            "linecolor": "white",
            "ticks": ""
           },
           "bgcolor": "#E5ECF6",
           "radialaxis": {
            "gridcolor": "white",
            "linecolor": "white",
            "ticks": ""
           }
          },
          "scene": {
           "xaxis": {
            "backgroundcolor": "#E5ECF6",
            "gridcolor": "white",
            "gridwidth": 2,
            "linecolor": "white",
            "showbackground": true,
            "ticks": "",
            "zerolinecolor": "white"
           },
           "yaxis": {
            "backgroundcolor": "#E5ECF6",
            "gridcolor": "white",
            "gridwidth": 2,
            "linecolor": "white",
            "showbackground": true,
            "ticks": "",
            "zerolinecolor": "white"
           },
           "zaxis": {
            "backgroundcolor": "#E5ECF6",
            "gridcolor": "white",
            "gridwidth": 2,
            "linecolor": "white",
            "showbackground": true,
            "ticks": "",
            "zerolinecolor": "white"
           }
          },
          "shapedefaults": {
           "line": {
            "color": "#2a3f5f"
           }
          },
          "ternary": {
           "aaxis": {
            "gridcolor": "white",
            "linecolor": "white",
            "ticks": ""
           },
           "baxis": {
            "gridcolor": "white",
            "linecolor": "white",
            "ticks": ""
           },
           "bgcolor": "#E5ECF6",
           "caxis": {
            "gridcolor": "white",
            "linecolor": "white",
            "ticks": ""
           }
          },
          "title": {
           "x": 0.05
          },
          "xaxis": {
           "automargin": true,
           "gridcolor": "white",
           "linecolor": "white",
           "ticks": "",
           "title": {
            "standoff": 15
           },
           "zerolinecolor": "white",
           "zerolinewidth": 2
          },
          "yaxis": {
           "automargin": true,
           "gridcolor": "white",
           "linecolor": "white",
           "ticks": "",
           "title": {
            "standoff": 15
           },
           "zerolinecolor": "white",
           "zerolinewidth": 2
          }
         }
        },
        "title": {
         "font": {
          "size": 20
         },
         "text": "Las 50 palabras más usadas en Twitter Financial News"
        }
       }
      }
     },
     "metadata": {},
     "output_type": "display_data"
    }
   ],
   "source": [
    "#50 palabras mas comunes en todas las noticias\n",
    "#Prefiero usar treemaps, me parece una gráfico más intuitivo y amigable\n",
    "import plotly.express as px\n",
    "\n",
    "finance_sample['final'] = finance_sample['text_lemmatized'].str.join(' ')\n",
    "\n",
    "freq_words = finance_sample['final'].str.split(expand=True).stack().value_counts()\n",
    "freq_words_top50 = freq_words[:50]\n",
    "\n",
    "\n",
    "fig = px.treemap(freq_words_top50, path=[freq_words_top50.index], values=freq_words_top50.values)\n",
    "fig.update_layout(title_text='Las 50 palabras más usadas en Twitter Financial News', title_font=dict(size=20))\n",
    "fig.show()"
   ]
  },
  {
   "cell_type": "code",
   "execution_count": 74,
   "metadata": {},
   "outputs": [
    {
     "data": {
      "application/vnd.plotly.v1+json": {
       "config": {
        "plotlyServerURL": "https://plot.ly"
       },
       "data": [
        {
         "branchvalues": "total",
         "domain": {
          "x": [
           0,
           1
          ],
          "y": [
           0,
           1
          ]
         },
         "hovertemplate": "labels=%{label}<br>value=%{value}<br>parent=%{parent}<br>id=%{id}<extra></extra>",
         "ids": [
          "bank",
          "basis",
          "boe",
          "central",
          "china",
          "cost",
          "debt",
          "decision",
          "ecb",
          "economic",
          "economy",
          "euro",
          "expect",
          "fed",
          "federal",
          "global",
          "go",
          "governor",
          "hike",
          "increase",
          "inflation",
          "interest",
          "july",
          "keep",
          "later",
          "market",
          "may",
          "meet",
          "monetary",
          "month",
          "move",
          "percentage",
          "plan",
          "point",
          "policy",
          "president",
          "price",
          "raise",
          "rat",
          "rate",
          "report",
          "reserve",
          "say",
          "see",
          "support",
          "tighten",
          "u",
          "us",
          "week",
          "year"
         ],
         "labels": [
          "bank",
          "basis",
          "boe",
          "central",
          "china",
          "cost",
          "debt",
          "decision",
          "ecb",
          "economic",
          "economy",
          "euro",
          "expect",
          "fed",
          "federal",
          "global",
          "go",
          "governor",
          "hike",
          "increase",
          "inflation",
          "interest",
          "july",
          "keep",
          "later",
          "market",
          "may",
          "meet",
          "monetary",
          "month",
          "move",
          "percentage",
          "plan",
          "point",
          "policy",
          "president",
          "price",
          "raise",
          "rat",
          "rate",
          "report",
          "reserve",
          "say",
          "see",
          "support",
          "tighten",
          "u",
          "us",
          "week",
          "year"
         ],
         "name": "",
         "parents": [
          "",
          "",
          "",
          "",
          "",
          "",
          "",
          "",
          "",
          "",
          "",
          "",
          "",
          "",
          "",
          "",
          "",
          "",
          "",
          "",
          "",
          "",
          "",
          "",
          "",
          "",
          "",
          "",
          "",
          "",
          "",
          "",
          "",
          "",
          "",
          "",
          "",
          "",
          "",
          "",
          "",
          "",
          "",
          "",
          "",
          "",
          "",
          "",
          "",
          ""
         ],
         "type": "treemap",
         "values": [
          91,
          27,
          10,
          61,
          12,
          10,
          9,
          10,
          34,
          11,
          15,
          10,
          20,
          85,
          11,
          10,
          12,
          20,
          44,
          25,
          77,
          46,
          15,
          15,
          13,
          21,
          22,
          11,
          15,
          17,
          17,
          12,
          9,
          46,
          26,
          17,
          14,
          35,
          51,
          75,
          12,
          13,
          58,
          14,
          10,
          15,
          10,
          13,
          10,
          13
         ]
        }
       ],
       "layout": {
        "legend": {
         "tracegroupgap": 0
        },
        "margin": {
         "t": 60
        },
        "template": {
         "data": {
          "bar": [
           {
            "error_x": {
             "color": "#2a3f5f"
            },
            "error_y": {
             "color": "#2a3f5f"
            },
            "marker": {
             "line": {
              "color": "#E5ECF6",
              "width": 0.5
             },
             "pattern": {
              "fillmode": "overlay",
              "size": 10,
              "solidity": 0.2
             }
            },
            "type": "bar"
           }
          ],
          "barpolar": [
           {
            "marker": {
             "line": {
              "color": "#E5ECF6",
              "width": 0.5
             },
             "pattern": {
              "fillmode": "overlay",
              "size": 10,
              "solidity": 0.2
             }
            },
            "type": "barpolar"
           }
          ],
          "carpet": [
           {
            "aaxis": {
             "endlinecolor": "#2a3f5f",
             "gridcolor": "white",
             "linecolor": "white",
             "minorgridcolor": "white",
             "startlinecolor": "#2a3f5f"
            },
            "baxis": {
             "endlinecolor": "#2a3f5f",
             "gridcolor": "white",
             "linecolor": "white",
             "minorgridcolor": "white",
             "startlinecolor": "#2a3f5f"
            },
            "type": "carpet"
           }
          ],
          "choropleth": [
           {
            "colorbar": {
             "outlinewidth": 0,
             "ticks": ""
            },
            "type": "choropleth"
           }
          ],
          "contour": [
           {
            "colorbar": {
             "outlinewidth": 0,
             "ticks": ""
            },
            "colorscale": [
             [
              0,
              "#0d0887"
             ],
             [
              0.1111111111111111,
              "#46039f"
             ],
             [
              0.2222222222222222,
              "#7201a8"
             ],
             [
              0.3333333333333333,
              "#9c179e"
             ],
             [
              0.4444444444444444,
              "#bd3786"
             ],
             [
              0.5555555555555556,
              "#d8576b"
             ],
             [
              0.6666666666666666,
              "#ed7953"
             ],
             [
              0.7777777777777778,
              "#fb9f3a"
             ],
             [
              0.8888888888888888,
              "#fdca26"
             ],
             [
              1,
              "#f0f921"
             ]
            ],
            "type": "contour"
           }
          ],
          "contourcarpet": [
           {
            "colorbar": {
             "outlinewidth": 0,
             "ticks": ""
            },
            "type": "contourcarpet"
           }
          ],
          "heatmap": [
           {
            "colorbar": {
             "outlinewidth": 0,
             "ticks": ""
            },
            "colorscale": [
             [
              0,
              "#0d0887"
             ],
             [
              0.1111111111111111,
              "#46039f"
             ],
             [
              0.2222222222222222,
              "#7201a8"
             ],
             [
              0.3333333333333333,
              "#9c179e"
             ],
             [
              0.4444444444444444,
              "#bd3786"
             ],
             [
              0.5555555555555556,
              "#d8576b"
             ],
             [
              0.6666666666666666,
              "#ed7953"
             ],
             [
              0.7777777777777778,
              "#fb9f3a"
             ],
             [
              0.8888888888888888,
              "#fdca26"
             ],
             [
              1,
              "#f0f921"
             ]
            ],
            "type": "heatmap"
           }
          ],
          "heatmapgl": [
           {
            "colorbar": {
             "outlinewidth": 0,
             "ticks": ""
            },
            "colorscale": [
             [
              0,
              "#0d0887"
             ],
             [
              0.1111111111111111,
              "#46039f"
             ],
             [
              0.2222222222222222,
              "#7201a8"
             ],
             [
              0.3333333333333333,
              "#9c179e"
             ],
             [
              0.4444444444444444,
              "#bd3786"
             ],
             [
              0.5555555555555556,
              "#d8576b"
             ],
             [
              0.6666666666666666,
              "#ed7953"
             ],
             [
              0.7777777777777778,
              "#fb9f3a"
             ],
             [
              0.8888888888888888,
              "#fdca26"
             ],
             [
              1,
              "#f0f921"
             ]
            ],
            "type": "heatmapgl"
           }
          ],
          "histogram": [
           {
            "marker": {
             "pattern": {
              "fillmode": "overlay",
              "size": 10,
              "solidity": 0.2
             }
            },
            "type": "histogram"
           }
          ],
          "histogram2d": [
           {
            "colorbar": {
             "outlinewidth": 0,
             "ticks": ""
            },
            "colorscale": [
             [
              0,
              "#0d0887"
             ],
             [
              0.1111111111111111,
              "#46039f"
             ],
             [
              0.2222222222222222,
              "#7201a8"
             ],
             [
              0.3333333333333333,
              "#9c179e"
             ],
             [
              0.4444444444444444,
              "#bd3786"
             ],
             [
              0.5555555555555556,
              "#d8576b"
             ],
             [
              0.6666666666666666,
              "#ed7953"
             ],
             [
              0.7777777777777778,
              "#fb9f3a"
             ],
             [
              0.8888888888888888,
              "#fdca26"
             ],
             [
              1,
              "#f0f921"
             ]
            ],
            "type": "histogram2d"
           }
          ],
          "histogram2dcontour": [
           {
            "colorbar": {
             "outlinewidth": 0,
             "ticks": ""
            },
            "colorscale": [
             [
              0,
              "#0d0887"
             ],
             [
              0.1111111111111111,
              "#46039f"
             ],
             [
              0.2222222222222222,
              "#7201a8"
             ],
             [
              0.3333333333333333,
              "#9c179e"
             ],
             [
              0.4444444444444444,
              "#bd3786"
             ],
             [
              0.5555555555555556,
              "#d8576b"
             ],
             [
              0.6666666666666666,
              "#ed7953"
             ],
             [
              0.7777777777777778,
              "#fb9f3a"
             ],
             [
              0.8888888888888888,
              "#fdca26"
             ],
             [
              1,
              "#f0f921"
             ]
            ],
            "type": "histogram2dcontour"
           }
          ],
          "mesh3d": [
           {
            "colorbar": {
             "outlinewidth": 0,
             "ticks": ""
            },
            "type": "mesh3d"
           }
          ],
          "parcoords": [
           {
            "line": {
             "colorbar": {
              "outlinewidth": 0,
              "ticks": ""
             }
            },
            "type": "parcoords"
           }
          ],
          "pie": [
           {
            "automargin": true,
            "type": "pie"
           }
          ],
          "scatter": [
           {
            "fillpattern": {
             "fillmode": "overlay",
             "size": 10,
             "solidity": 0.2
            },
            "type": "scatter"
           }
          ],
          "scatter3d": [
           {
            "line": {
             "colorbar": {
              "outlinewidth": 0,
              "ticks": ""
             }
            },
            "marker": {
             "colorbar": {
              "outlinewidth": 0,
              "ticks": ""
             }
            },
            "type": "scatter3d"
           }
          ],
          "scattercarpet": [
           {
            "marker": {
             "colorbar": {
              "outlinewidth": 0,
              "ticks": ""
             }
            },
            "type": "scattercarpet"
           }
          ],
          "scattergeo": [
           {
            "marker": {
             "colorbar": {
              "outlinewidth": 0,
              "ticks": ""
             }
            },
            "type": "scattergeo"
           }
          ],
          "scattergl": [
           {
            "marker": {
             "colorbar": {
              "outlinewidth": 0,
              "ticks": ""
             }
            },
            "type": "scattergl"
           }
          ],
          "scattermapbox": [
           {
            "marker": {
             "colorbar": {
              "outlinewidth": 0,
              "ticks": ""
             }
            },
            "type": "scattermapbox"
           }
          ],
          "scatterpolar": [
           {
            "marker": {
             "colorbar": {
              "outlinewidth": 0,
              "ticks": ""
             }
            },
            "type": "scatterpolar"
           }
          ],
          "scatterpolargl": [
           {
            "marker": {
             "colorbar": {
              "outlinewidth": 0,
              "ticks": ""
             }
            },
            "type": "scatterpolargl"
           }
          ],
          "scatterternary": [
           {
            "marker": {
             "colorbar": {
              "outlinewidth": 0,
              "ticks": ""
             }
            },
            "type": "scatterternary"
           }
          ],
          "surface": [
           {
            "colorbar": {
             "outlinewidth": 0,
             "ticks": ""
            },
            "colorscale": [
             [
              0,
              "#0d0887"
             ],
             [
              0.1111111111111111,
              "#46039f"
             ],
             [
              0.2222222222222222,
              "#7201a8"
             ],
             [
              0.3333333333333333,
              "#9c179e"
             ],
             [
              0.4444444444444444,
              "#bd3786"
             ],
             [
              0.5555555555555556,
              "#d8576b"
             ],
             [
              0.6666666666666666,
              "#ed7953"
             ],
             [
              0.7777777777777778,
              "#fb9f3a"
             ],
             [
              0.8888888888888888,
              "#fdca26"
             ],
             [
              1,
              "#f0f921"
             ]
            ],
            "type": "surface"
           }
          ],
          "table": [
           {
            "cells": {
             "fill": {
              "color": "#EBF0F8"
             },
             "line": {
              "color": "white"
             }
            },
            "header": {
             "fill": {
              "color": "#C8D4E3"
             },
             "line": {
              "color": "white"
             }
            },
            "type": "table"
           }
          ]
         },
         "layout": {
          "annotationdefaults": {
           "arrowcolor": "#2a3f5f",
           "arrowhead": 0,
           "arrowwidth": 1
          },
          "autotypenumbers": "strict",
          "coloraxis": {
           "colorbar": {
            "outlinewidth": 0,
            "ticks": ""
           }
          },
          "colorscale": {
           "diverging": [
            [
             0,
             "#8e0152"
            ],
            [
             0.1,
             "#c51b7d"
            ],
            [
             0.2,
             "#de77ae"
            ],
            [
             0.3,
             "#f1b6da"
            ],
            [
             0.4,
             "#fde0ef"
            ],
            [
             0.5,
             "#f7f7f7"
            ],
            [
             0.6,
             "#e6f5d0"
            ],
            [
             0.7,
             "#b8e186"
            ],
            [
             0.8,
             "#7fbc41"
            ],
            [
             0.9,
             "#4d9221"
            ],
            [
             1,
             "#276419"
            ]
           ],
           "sequential": [
            [
             0,
             "#0d0887"
            ],
            [
             0.1111111111111111,
             "#46039f"
            ],
            [
             0.2222222222222222,
             "#7201a8"
            ],
            [
             0.3333333333333333,
             "#9c179e"
            ],
            [
             0.4444444444444444,
             "#bd3786"
            ],
            [
             0.5555555555555556,
             "#d8576b"
            ],
            [
             0.6666666666666666,
             "#ed7953"
            ],
            [
             0.7777777777777778,
             "#fb9f3a"
            ],
            [
             0.8888888888888888,
             "#fdca26"
            ],
            [
             1,
             "#f0f921"
            ]
           ],
           "sequentialminus": [
            [
             0,
             "#0d0887"
            ],
            [
             0.1111111111111111,
             "#46039f"
            ],
            [
             0.2222222222222222,
             "#7201a8"
            ],
            [
             0.3333333333333333,
             "#9c179e"
            ],
            [
             0.4444444444444444,
             "#bd3786"
            ],
            [
             0.5555555555555556,
             "#d8576b"
            ],
            [
             0.6666666666666666,
             "#ed7953"
            ],
            [
             0.7777777777777778,
             "#fb9f3a"
            ],
            [
             0.8888888888888888,
             "#fdca26"
            ],
            [
             1,
             "#f0f921"
            ]
           ]
          },
          "colorway": [
           "#636efa",
           "#EF553B",
           "#00cc96",
           "#ab63fa",
           "#FFA15A",
           "#19d3f3",
           "#FF6692",
           "#B6E880",
           "#FF97FF",
           "#FECB52"
          ],
          "font": {
           "color": "#2a3f5f"
          },
          "geo": {
           "bgcolor": "white",
           "lakecolor": "white",
           "landcolor": "#E5ECF6",
           "showlakes": true,
           "showland": true,
           "subunitcolor": "white"
          },
          "hoverlabel": {
           "align": "left"
          },
          "hovermode": "closest",
          "mapbox": {
           "style": "light"
          },
          "paper_bgcolor": "white",
          "plot_bgcolor": "#E5ECF6",
          "polar": {
           "angularaxis": {
            "gridcolor": "white",
            "linecolor": "white",
            "ticks": ""
           },
           "bgcolor": "#E5ECF6",
           "radialaxis": {
            "gridcolor": "white",
            "linecolor": "white",
            "ticks": ""
           }
          },
          "scene": {
           "xaxis": {
            "backgroundcolor": "#E5ECF6",
            "gridcolor": "white",
            "gridwidth": 2,
            "linecolor": "white",
            "showbackground": true,
            "ticks": "",
            "zerolinecolor": "white"
           },
           "yaxis": {
            "backgroundcolor": "#E5ECF6",
            "gridcolor": "white",
            "gridwidth": 2,
            "linecolor": "white",
            "showbackground": true,
            "ticks": "",
            "zerolinecolor": "white"
           },
           "zaxis": {
            "backgroundcolor": "#E5ECF6",
            "gridcolor": "white",
            "gridwidth": 2,
            "linecolor": "white",
            "showbackground": true,
            "ticks": "",
            "zerolinecolor": "white"
           }
          },
          "shapedefaults": {
           "line": {
            "color": "#2a3f5f"
           }
          },
          "ternary": {
           "aaxis": {
            "gridcolor": "white",
            "linecolor": "white",
            "ticks": ""
           },
           "baxis": {
            "gridcolor": "white",
            "linecolor": "white",
            "ticks": ""
           },
           "bgcolor": "#E5ECF6",
           "caxis": {
            "gridcolor": "white",
            "linecolor": "white",
            "ticks": ""
           }
          },
          "title": {
           "x": 0.05
          },
          "xaxis": {
           "automargin": true,
           "gridcolor": "white",
           "linecolor": "white",
           "ticks": "",
           "title": {
            "standoff": 15
           },
           "zerolinecolor": "white",
           "zerolinewidth": 2
          },
          "yaxis": {
           "automargin": true,
           "gridcolor": "white",
           "linecolor": "white",
           "ticks": "",
           "title": {
            "standoff": 15
           },
           "zerolinecolor": "white",
           "zerolinewidth": 2
          }
         }
        },
        "title": {
         "font": {
          "size": 20
         },
         "text": "Las 50 palabras más usadas en Twitter Financial News (Bancos Centrales)"
        }
       }
      }
     },
     "metadata": {},
     "output_type": "display_data"
    }
   ],
   "source": [
    "#50 palabras mas comunes en noticias sobre los bancos centrales\n",
    "import plotly.express as px\n",
    "\n",
    "finance_sample_cb = finance_sample[finance_sample['label']==1]\n",
    "\n",
    "freq_words_cb = finance_sample_cb['final'].str.split(expand=True).stack().value_counts()\n",
    "freq_words_top50_cb = freq_words_cb[:50]\n",
    "\n",
    "\n",
    "fig = px.treemap(freq_words_top50_cb, path=[freq_words_top50_cb.index], values=freq_words_top50_cb.values)\n",
    "fig.update_layout(title_text='Las 50 palabras más usadas en Twitter Financial News (Bancos Centrales)', title_font=dict(size=20))\n",
    "fig.show()"
   ]
  },
  {
   "cell_type": "code",
   "execution_count": 75,
   "metadata": {},
   "outputs": [
    {
     "data": {
      "application/vnd.plotly.v1+json": {
       "config": {
        "plotlyServerURL": "https://plot.ly"
       },
       "data": [
        {
         "branchvalues": "total",
         "domain": {
          "x": [
           0,
           1
          ],
          "y": [
           0,
           1
          ]
         },
         "hovertemplate": "labels=%{label}<br>value=%{value}<br>parent=%{parent}<br>id=%{id}<extra></extra>",
         "ids": [
          "amp",
          "bid",
          "bottom",
          "break",
          "business",
          "buy",
          "c",
          "chart",
          "close",
          "day",
          "dividend",
          "economy",
          "es",
          "finance",
          "get",
          "go",
          "high",
          "hold",
          "invest",
          "long",
          "look",
          "low",
          "market",
          "move",
          "name",
          "new",
          "next",
          "open",
          "p",
          "price",
          "qqq",
          "right",
          "see",
          "sell",
          "short",
          "spx",
          "spy",
          "still",
          "stock",
          "stockmarket",
          "strong",
          "support",
          "take",
          "time",
          "today",
          "trade",
          "tsla",
          "week",
          "wire",
          "yield"
         ],
         "labels": [
          "amp",
          "bid",
          "bottom",
          "break",
          "business",
          "buy",
          "c",
          "chart",
          "close",
          "day",
          "dividend",
          "economy",
          "es",
          "finance",
          "get",
          "go",
          "high",
          "hold",
          "invest",
          "long",
          "look",
          "low",
          "market",
          "move",
          "name",
          "new",
          "next",
          "open",
          "p",
          "price",
          "qqq",
          "right",
          "see",
          "sell",
          "short",
          "spx",
          "spy",
          "still",
          "stock",
          "stockmarket",
          "strong",
          "support",
          "take",
          "time",
          "today",
          "trade",
          "tsla",
          "week",
          "wire",
          "yield"
         ],
         "name": "",
         "parents": [
          "",
          "",
          "",
          "",
          "",
          "",
          "",
          "",
          "",
          "",
          "",
          "",
          "",
          "",
          "",
          "",
          "",
          "",
          "",
          "",
          "",
          "",
          "",
          "",
          "",
          "",
          "",
          "",
          "",
          "",
          "",
          "",
          "",
          "",
          "",
          "",
          "",
          "",
          "",
          "",
          "",
          "",
          "",
          "",
          "",
          "",
          "",
          "",
          "",
          ""
         ],
         "type": "treemap",
         "values": [
          21,
          15,
          15,
          24,
          91,
          49,
          29,
          16,
          18,
          25,
          19,
          95,
          14,
          98,
          18,
          30,
          15,
          25,
          88,
          21,
          30,
          23,
          112,
          17,
          16,
          21,
          20,
          28,
          18,
          28,
          27,
          14,
          33,
          15,
          20,
          18,
          46,
          25,
          143,
          91,
          23,
          18,
          15,
          14,
          21,
          132,
          18,
          25,
          46,
          23
         ]
        }
       ],
       "layout": {
        "legend": {
         "tracegroupgap": 0
        },
        "margin": {
         "t": 60
        },
        "template": {
         "data": {
          "bar": [
           {
            "error_x": {
             "color": "#2a3f5f"
            },
            "error_y": {
             "color": "#2a3f5f"
            },
            "marker": {
             "line": {
              "color": "#E5ECF6",
              "width": 0.5
             },
             "pattern": {
              "fillmode": "overlay",
              "size": 10,
              "solidity": 0.2
             }
            },
            "type": "bar"
           }
          ],
          "barpolar": [
           {
            "marker": {
             "line": {
              "color": "#E5ECF6",
              "width": 0.5
             },
             "pattern": {
              "fillmode": "overlay",
              "size": 10,
              "solidity": 0.2
             }
            },
            "type": "barpolar"
           }
          ],
          "carpet": [
           {
            "aaxis": {
             "endlinecolor": "#2a3f5f",
             "gridcolor": "white",
             "linecolor": "white",
             "minorgridcolor": "white",
             "startlinecolor": "#2a3f5f"
            },
            "baxis": {
             "endlinecolor": "#2a3f5f",
             "gridcolor": "white",
             "linecolor": "white",
             "minorgridcolor": "white",
             "startlinecolor": "#2a3f5f"
            },
            "type": "carpet"
           }
          ],
          "choropleth": [
           {
            "colorbar": {
             "outlinewidth": 0,
             "ticks": ""
            },
            "type": "choropleth"
           }
          ],
          "contour": [
           {
            "colorbar": {
             "outlinewidth": 0,
             "ticks": ""
            },
            "colorscale": [
             [
              0,
              "#0d0887"
             ],
             [
              0.1111111111111111,
              "#46039f"
             ],
             [
              0.2222222222222222,
              "#7201a8"
             ],
             [
              0.3333333333333333,
              "#9c179e"
             ],
             [
              0.4444444444444444,
              "#bd3786"
             ],
             [
              0.5555555555555556,
              "#d8576b"
             ],
             [
              0.6666666666666666,
              "#ed7953"
             ],
             [
              0.7777777777777778,
              "#fb9f3a"
             ],
             [
              0.8888888888888888,
              "#fdca26"
             ],
             [
              1,
              "#f0f921"
             ]
            ],
            "type": "contour"
           }
          ],
          "contourcarpet": [
           {
            "colorbar": {
             "outlinewidth": 0,
             "ticks": ""
            },
            "type": "contourcarpet"
           }
          ],
          "heatmap": [
           {
            "colorbar": {
             "outlinewidth": 0,
             "ticks": ""
            },
            "colorscale": [
             [
              0,
              "#0d0887"
             ],
             [
              0.1111111111111111,
              "#46039f"
             ],
             [
              0.2222222222222222,
              "#7201a8"
             ],
             [
              0.3333333333333333,
              "#9c179e"
             ],
             [
              0.4444444444444444,
              "#bd3786"
             ],
             [
              0.5555555555555556,
              "#d8576b"
             ],
             [
              0.6666666666666666,
              "#ed7953"
             ],
             [
              0.7777777777777778,
              "#fb9f3a"
             ],
             [
              0.8888888888888888,
              "#fdca26"
             ],
             [
              1,
              "#f0f921"
             ]
            ],
            "type": "heatmap"
           }
          ],
          "heatmapgl": [
           {
            "colorbar": {
             "outlinewidth": 0,
             "ticks": ""
            },
            "colorscale": [
             [
              0,
              "#0d0887"
             ],
             [
              0.1111111111111111,
              "#46039f"
             ],
             [
              0.2222222222222222,
              "#7201a8"
             ],
             [
              0.3333333333333333,
              "#9c179e"
             ],
             [
              0.4444444444444444,
              "#bd3786"
             ],
             [
              0.5555555555555556,
              "#d8576b"
             ],
             [
              0.6666666666666666,
              "#ed7953"
             ],
             [
              0.7777777777777778,
              "#fb9f3a"
             ],
             [
              0.8888888888888888,
              "#fdca26"
             ],
             [
              1,
              "#f0f921"
             ]
            ],
            "type": "heatmapgl"
           }
          ],
          "histogram": [
           {
            "marker": {
             "pattern": {
              "fillmode": "overlay",
              "size": 10,
              "solidity": 0.2
             }
            },
            "type": "histogram"
           }
          ],
          "histogram2d": [
           {
            "colorbar": {
             "outlinewidth": 0,
             "ticks": ""
            },
            "colorscale": [
             [
              0,
              "#0d0887"
             ],
             [
              0.1111111111111111,
              "#46039f"
             ],
             [
              0.2222222222222222,
              "#7201a8"
             ],
             [
              0.3333333333333333,
              "#9c179e"
             ],
             [
              0.4444444444444444,
              "#bd3786"
             ],
             [
              0.5555555555555556,
              "#d8576b"
             ],
             [
              0.6666666666666666,
              "#ed7953"
             ],
             [
              0.7777777777777778,
              "#fb9f3a"
             ],
             [
              0.8888888888888888,
              "#fdca26"
             ],
             [
              1,
              "#f0f921"
             ]
            ],
            "type": "histogram2d"
           }
          ],
          "histogram2dcontour": [
           {
            "colorbar": {
             "outlinewidth": 0,
             "ticks": ""
            },
            "colorscale": [
             [
              0,
              "#0d0887"
             ],
             [
              0.1111111111111111,
              "#46039f"
             ],
             [
              0.2222222222222222,
              "#7201a8"
             ],
             [
              0.3333333333333333,
              "#9c179e"
             ],
             [
              0.4444444444444444,
              "#bd3786"
             ],
             [
              0.5555555555555556,
              "#d8576b"
             ],
             [
              0.6666666666666666,
              "#ed7953"
             ],
             [
              0.7777777777777778,
              "#fb9f3a"
             ],
             [
              0.8888888888888888,
              "#fdca26"
             ],
             [
              1,
              "#f0f921"
             ]
            ],
            "type": "histogram2dcontour"
           }
          ],
          "mesh3d": [
           {
            "colorbar": {
             "outlinewidth": 0,
             "ticks": ""
            },
            "type": "mesh3d"
           }
          ],
          "parcoords": [
           {
            "line": {
             "colorbar": {
              "outlinewidth": 0,
              "ticks": ""
             }
            },
            "type": "parcoords"
           }
          ],
          "pie": [
           {
            "automargin": true,
            "type": "pie"
           }
          ],
          "scatter": [
           {
            "fillpattern": {
             "fillmode": "overlay",
             "size": 10,
             "solidity": 0.2
            },
            "type": "scatter"
           }
          ],
          "scatter3d": [
           {
            "line": {
             "colorbar": {
              "outlinewidth": 0,
              "ticks": ""
             }
            },
            "marker": {
             "colorbar": {
              "outlinewidth": 0,
              "ticks": ""
             }
            },
            "type": "scatter3d"
           }
          ],
          "scattercarpet": [
           {
            "marker": {
             "colorbar": {
              "outlinewidth": 0,
              "ticks": ""
             }
            },
            "type": "scattercarpet"
           }
          ],
          "scattergeo": [
           {
            "marker": {
             "colorbar": {
              "outlinewidth": 0,
              "ticks": ""
             }
            },
            "type": "scattergeo"
           }
          ],
          "scattergl": [
           {
            "marker": {
             "colorbar": {
              "outlinewidth": 0,
              "ticks": ""
             }
            },
            "type": "scattergl"
           }
          ],
          "scattermapbox": [
           {
            "marker": {
             "colorbar": {
              "outlinewidth": 0,
              "ticks": ""
             }
            },
            "type": "scattermapbox"
           }
          ],
          "scatterpolar": [
           {
            "marker": {
             "colorbar": {
              "outlinewidth": 0,
              "ticks": ""
             }
            },
            "type": "scatterpolar"
           }
          ],
          "scatterpolargl": [
           {
            "marker": {
             "colorbar": {
              "outlinewidth": 0,
              "ticks": ""
             }
            },
            "type": "scatterpolargl"
           }
          ],
          "scatterternary": [
           {
            "marker": {
             "colorbar": {
              "outlinewidth": 0,
              "ticks": ""
             }
            },
            "type": "scatterternary"
           }
          ],
          "surface": [
           {
            "colorbar": {
             "outlinewidth": 0,
             "ticks": ""
            },
            "colorscale": [
             [
              0,
              "#0d0887"
             ],
             [
              0.1111111111111111,
              "#46039f"
             ],
             [
              0.2222222222222222,
              "#7201a8"
             ],
             [
              0.3333333333333333,
              "#9c179e"
             ],
             [
              0.4444444444444444,
              "#bd3786"
             ],
             [
              0.5555555555555556,
              "#d8576b"
             ],
             [
              0.6666666666666666,
              "#ed7953"
             ],
             [
              0.7777777777777778,
              "#fb9f3a"
             ],
             [
              0.8888888888888888,
              "#fdca26"
             ],
             [
              1,
              "#f0f921"
             ]
            ],
            "type": "surface"
           }
          ],
          "table": [
           {
            "cells": {
             "fill": {
              "color": "#EBF0F8"
             },
             "line": {
              "color": "white"
             }
            },
            "header": {
             "fill": {
              "color": "#C8D4E3"
             },
             "line": {
              "color": "white"
             }
            },
            "type": "table"
           }
          ]
         },
         "layout": {
          "annotationdefaults": {
           "arrowcolor": "#2a3f5f",
           "arrowhead": 0,
           "arrowwidth": 1
          },
          "autotypenumbers": "strict",
          "coloraxis": {
           "colorbar": {
            "outlinewidth": 0,
            "ticks": ""
           }
          },
          "colorscale": {
           "diverging": [
            [
             0,
             "#8e0152"
            ],
            [
             0.1,
             "#c51b7d"
            ],
            [
             0.2,
             "#de77ae"
            ],
            [
             0.3,
             "#f1b6da"
            ],
            [
             0.4,
             "#fde0ef"
            ],
            [
             0.5,
             "#f7f7f7"
            ],
            [
             0.6,
             "#e6f5d0"
            ],
            [
             0.7,
             "#b8e186"
            ],
            [
             0.8,
             "#7fbc41"
            ],
            [
             0.9,
             "#4d9221"
            ],
            [
             1,
             "#276419"
            ]
           ],
           "sequential": [
            [
             0,
             "#0d0887"
            ],
            [
             0.1111111111111111,
             "#46039f"
            ],
            [
             0.2222222222222222,
             "#7201a8"
            ],
            [
             0.3333333333333333,
             "#9c179e"
            ],
            [
             0.4444444444444444,
             "#bd3786"
            ],
            [
             0.5555555555555556,
             "#d8576b"
            ],
            [
             0.6666666666666666,
             "#ed7953"
            ],
            [
             0.7777777777777778,
             "#fb9f3a"
            ],
            [
             0.8888888888888888,
             "#fdca26"
            ],
            [
             1,
             "#f0f921"
            ]
           ],
           "sequentialminus": [
            [
             0,
             "#0d0887"
            ],
            [
             0.1111111111111111,
             "#46039f"
            ],
            [
             0.2222222222222222,
             "#7201a8"
            ],
            [
             0.3333333333333333,
             "#9c179e"
            ],
            [
             0.4444444444444444,
             "#bd3786"
            ],
            [
             0.5555555555555556,
             "#d8576b"
            ],
            [
             0.6666666666666666,
             "#ed7953"
            ],
            [
             0.7777777777777778,
             "#fb9f3a"
            ],
            [
             0.8888888888888888,
             "#fdca26"
            ],
            [
             1,
             "#f0f921"
            ]
           ]
          },
          "colorway": [
           "#636efa",
           "#EF553B",
           "#00cc96",
           "#ab63fa",
           "#FFA15A",
           "#19d3f3",
           "#FF6692",
           "#B6E880",
           "#FF97FF",
           "#FECB52"
          ],
          "font": {
           "color": "#2a3f5f"
          },
          "geo": {
           "bgcolor": "white",
           "lakecolor": "white",
           "landcolor": "#E5ECF6",
           "showlakes": true,
           "showland": true,
           "subunitcolor": "white"
          },
          "hoverlabel": {
           "align": "left"
          },
          "hovermode": "closest",
          "mapbox": {
           "style": "light"
          },
          "paper_bgcolor": "white",
          "plot_bgcolor": "#E5ECF6",
          "polar": {
           "angularaxis": {
            "gridcolor": "white",
            "linecolor": "white",
            "ticks": ""
           },
           "bgcolor": "#E5ECF6",
           "radialaxis": {
            "gridcolor": "white",
            "linecolor": "white",
            "ticks": ""
           }
          },
          "scene": {
           "xaxis": {
            "backgroundcolor": "#E5ECF6",
            "gridcolor": "white",
            "gridwidth": 2,
            "linecolor": "white",
            "showbackground": true,
            "ticks": "",
            "zerolinecolor": "white"
           },
           "yaxis": {
            "backgroundcolor": "#E5ECF6",
            "gridcolor": "white",
            "gridwidth": 2,
            "linecolor": "white",
            "showbackground": true,
            "ticks": "",
            "zerolinecolor": "white"
           },
           "zaxis": {
            "backgroundcolor": "#E5ECF6",
            "gridcolor": "white",
            "gridwidth": 2,
            "linecolor": "white",
            "showbackground": true,
            "ticks": "",
            "zerolinecolor": "white"
           }
          },
          "shapedefaults": {
           "line": {
            "color": "#2a3f5f"
           }
          },
          "ternary": {
           "aaxis": {
            "gridcolor": "white",
            "linecolor": "white",
            "ticks": ""
           },
           "baxis": {
            "gridcolor": "white",
            "linecolor": "white",
            "ticks": ""
           },
           "bgcolor": "#E5ECF6",
           "caxis": {
            "gridcolor": "white",
            "linecolor": "white",
            "ticks": ""
           }
          },
          "title": {
           "x": 0.05
          },
          "xaxis": {
           "automargin": true,
           "gridcolor": "white",
           "linecolor": "white",
           "ticks": "",
           "title": {
            "standoff": 15
           },
           "zerolinecolor": "white",
           "zerolinewidth": 2
          },
          "yaxis": {
           "automargin": true,
           "gridcolor": "white",
           "linecolor": "white",
           "ticks": "",
           "title": {
            "standoff": 15
           },
           "zerolinecolor": "white",
           "zerolinewidth": 2
          }
         }
        },
        "title": {
         "font": {
          "size": 15
         },
         "text": "Las 50 palabras más usadas en Twitter Financial News (Comentario sobre acciones)"
        }
       }
      }
     },
     "metadata": {},
     "output_type": "display_data"
    }
   ],
   "source": [
    "#50 palabras mas comunes en noticias sobre comentarios de acciones\n",
    "import plotly.express as px\n",
    "\n",
    "finance_sample_sc = finance_sample[finance_sample['label']==18]\n",
    "\n",
    "freq_words_sc = finance_sample_sc['final'].str.split(expand=True).stack().value_counts()\n",
    "freq_words_top50_sc = freq_words_sc[:50]\n",
    "\n",
    "\n",
    "fig = px.treemap(freq_words_top50_sc, path=[freq_words_top50_sc.index], values=freq_words_top50_sc.values)\n",
    "fig.update_layout(title_text='Las 50 palabras más usadas en Twitter Financial News (Comentario sobre acciones)', title_font=dict(size=15))\n",
    "fig.show()"
   ]
  },
  {
   "cell_type": "markdown",
   "metadata": {},
   "source": [
    "Observamos que las noticias relacionadas con las acciones ejecutadas por los bancos centrales tienden a centrarse predominantemente en instituciones y variables macroeconómicas. Esto se refleja en el uso recurrente de términos como \"fed\" (Reserva Federal), \"bank\" (banco), \"inflation\" (inflación), \"rate\" (tasa) y \"central\" (central). En constraste, las noticias relacionadas con acciones se orientan más hacia el movimiento individual de ciertos valores y el estado general del mercado financiero. Esta inclinación se hace patente en la frecuente utilización de palabras como \"stock\" (acción), \"market\" (mercado), \"economy\" (economía), \"invest\" (invertir) y \"buy\" (comprar), entre otros."
   ]
  },
  {
   "cell_type": "markdown",
   "metadata": {},
   "source": [
    "#### Segundo Caso: Notas informativas del BCRP"
   ]
  },
  {
   "cell_type": "markdown",
   "metadata": {},
   "source": [
    "La capacidad de NLP para extraer información clave de las notas del BCRP, monitorear cambios en la política monetaria, construir modelos predictivos y analizar el sentimiento expresado en los comunicados, ofrece a analistas, inversores y responsables de políticas una herramienta valiosa para anticipar movimientos económicos, comprender la perspectiva del banco central y automatizar tareas rutinarias, optimizando así la toma de decisiones estratégicas."
   ]
  },
  {
   "cell_type": "code",
   "execution_count": 45,
   "metadata": {},
   "outputs": [],
   "source": [
    "#usaremos PyPDF2: pip install PyPDF2\n",
    "import PyPDF2 as pdf"
   ]
  },
  {
   "cell_type": "code",
   "execution_count": 46,
   "metadata": {},
   "outputs": [],
   "source": [
    "d_nota_1 = open('some_example_data\\ota-informativa-2023-01-12-1.pdf', mode='rb')\n",
    "d_nota_2 = open('some_example_data\\ota-informativa-2023-11-09.pdf', mode='rb')\n",
    "d_nota_3 = open('some_example_data\\ota-informativa-2024-01-11.pdf', mode='rb')"
   ]
  },
  {
   "cell_type": "code",
   "execution_count": 47,
   "metadata": {},
   "outputs": [
    {
     "name": "stdout",
     "output_type": "stream",
     "text": [
      "1\n",
      "NOTA INFORMATIVA  \n",
      " \n",
      "PROGRAMA  MONETARIO  DE ENERO  2023  \n",
      "BCRP ELEVA  LA TASA  DE INTERÉS  DE REFERENCIA  A 7,75% \n",
      " \n",
      "1. El Directorio del Banco Central de Reserva del Perú acordó elevar la tasa de interés de referencia \n",
      "en 25 pbs. a 7,75 por ciento, continuando con los ajustes de la posición de política monetaria. Para \n",
      "esta decisión se consideró la siguiente información : \n",
      "i. La tasa de inflación a doce meses aumentó de 8,45 por ciento en noviembre a 8,46 por ciento \n",
      "en diciembre, por mayores precios de alimentos producidos localmente, mientras que la tasa \n",
      "de inflación sin alimentos y energía a doce meses se redujo de 5,71 por cien to en noviembre \n",
      "a 5,59 por ciento en diciembre. Ambos indicadores se ubicaron por encima del límite superior \n",
      "del rango meta de inflación.  \n",
      "ii. El aumento significativo de los precios internacionales de energía y alimentos desde la \n",
      "segunda mitad de 2021, acentua do por los conflictos internacionales, ha conllevado a un \n",
      "fuerte incremento de las tasas de inflación a nivel global en magnitudes no vistas en muchos \n",
      "años y hacia niveles significativamente superiores a las metas de inflación de bancos \n",
      "centrales, tanto de  economías avanzadas como de la región.  \n",
      "iii. Se proyecta una tendencia decreciente de la inflación interanual desde marzo con el retorno \n",
      "al rango meta en el cuarto trimestre de este año, debido a la moderación del efecto de los \n",
      "precios internacionales de alime ntos y energía, y a una reducción de las expectativas de \n",
      "inflación.  \n",
      "iv. Las expectativas de inflación a doce meses se redujeron de 4,68 por ciento en noviembre a \n",
      "4,30 por ciento en diciembre, por encima del límite superior del rango meta de inflación.  \n",
      "v. La mayo r parte de los indicadores adelantados y de expectativas sobre la economía se \n",
      "recuperó en diciembre, aunque se mantiene en el tramo pesimista.  \n",
      "vi. Las perspectivas de crecimiento de la actividad económica mundial han venido disminuyendo \n",
      "por los efectos de la p olítica monetaria restrictiva en las economías avanzadas, el impacto \n",
      "de la inflación sobre el consumo y los conflictos internacionales .  \n",
      " \n",
      "2. El Directorio se encuentra especialmente atento a la nueva información referida a la inflación y sus \n",
      "determinantes, incluyendo la evolución de las expectativas de inflación y la actividad económica, \n",
      "para considerar modificaciones adicionales en la posición de la política monetaria. El Directorio \n",
      "reafirma su compromiso de adoptar las acciones necesarias pa ra asegurar el retorno de la inflación \n",
      "al rango meta en el horizonte de proyección.  \n",
      "  \n",
      "3. En la misma sesión el Directorio acordó las siguientes tasas de interés de las operaciones en \n",
      "moneda nacional del BCRP con el sistema financiero bajo la modalidad de ventanilla.  \n",
      " \n",
      "i. Depósitos overnight:  5,25 por ciento anual.  \n",
      "ii. Operaciones de reporte directas de títulos valores y de moneda, y Créditos de Regulación \n",
      "Monetaria: i) 8,25 por ciento anual para las primeras 10 operaciones en los últimos 3 meses; \n",
      "y ii) la tasa de interés que fije el Comité de Operaciones Monetarias y Cambiarias para las \n",
      "operaciones adicionales a estas 10 operaciones en los últimos 3 meses. Además, el Comité \n",
      "de Operaciones Monetarias y Cambiarias podrá establecer tasas superiores en función al \n",
      "monto de las operaciones . \n",
      " \n",
      "4. La próxima sesión del Directorio en que se evaluará el Programa Monetario está programada \n",
      "para el 9 de febrero  de 202 3. \n",
      " \n",
      "Lima,  12 de enero  de 2023. \n",
      "\n"
     ]
    }
   ],
   "source": [
    "pdf_nota_1 = pdf.PdfReader(d_nota_1)\n",
    "print(len(pdf_nota_1.pages))\n",
    "\n",
    "nota_1_page = pdf_nota_1.pages[-1]\n",
    "nota_1 = nota_1_page.extract_text()\n",
    "print(nota_1)"
   ]
  },
  {
   "cell_type": "code",
   "execution_count": 48,
   "metadata": {},
   "outputs": [
    {
     "name": "stdout",
     "output_type": "stream",
     "text": [
      "1\n",
      "NOTA INFORMATIVA \n",
      " \n",
      "PROGRAMA MONETARIO  DE NOVIEMBRE  2023  \n",
      "BCRP REDUJO  LA TASA DE INTERÉS  DE REFERENCIA A 7,00%  \n",
      " \n",
      "1. El Directorio del Banco Central de Reserva del Perú acordó reducir la tasa de interés de referencia en 25 \n",
      "pbs. a 7,00 por ciento. Esta decisión no necesariamente implica un ciclo de sucesivas reducciones en la tasa \n",
      "de interés. Futuros ajustes en la tasa de  referencia estarán condicionados a la nueva información sobre la \n",
      "inflación y sus determinantes.  \n",
      " \n",
      "2. La decisión de reducir la tasa de referencia tomó en cuenta la siguiente información y proyecciones:  \n",
      " \n",
      "i. En octubre la tasa mensual de inflación fue - 0,32 por ciento y la inflación sin alimentos y energía fue \n",
      "0,22 por ciento. La tasa de inflación a doce meses se redujo de 5,0 por ciento en setiembre a 4,3 por \n",
      "ciento en octubre, mientras que la tasa de inflaci ón sin alimentos y energía a doce meses disminuyó \n",
      "de 3,6 por ciento en setiembre a 3,3 por ciento en octubre. Ambos indicadores vienen disminuyendo desde inicios de 2023, pero continúan ubicándose por encima del límite superior del rango meta de \n",
      "inflación.  \n",
      "ii. Luego del aumento significativo de las tasas de inflación a nivel global desde la segunda mitad de \n",
      "2021, en la mayoría de países se observa una tendencia decreciente durante el año. En el caso \n",
      "peruano, se observa una tendencia decreciente más marcada desde junio, en la medida en que se \n",
      "disipan algunos de los efectos transitorios en la inflación por restricciones en la oferta de ciertos \n",
      "alimentos.  \n",
      "iii. Las expectativas de inflación a doce meses se redujeron de 3,4 a 3,3 por ciento entre setiembre y \n",
      "octubre, ubicándose cerca al límite superior del rango meta de inflación.  \n",
      "iv. Se proyecta que se mantenga una tendencia decreciente de la inflación interanual alcanzando el rango meta a inicios del próximo año. Esto se explicaría por la moderación del efecto de los precios internacionales de varios rubros, la reversión de choques de oferta en el sector agropecuario y la \n",
      "reducción proyectada en las expectativas de inflación. Sin embargo, existen riesgos asociados a factores climáticos provenientes principalmente del Fenómeno El Niño.  \n",
      "v. Los indicadores adelantados y de expectativas sobre la economía en octubre muestran un deterioro frente al mes previo, manteniéndose la mayoría aún en el tramo pesimista. La actividad económica y la demanda interna han sido afectada s por choques derivados de los conflictos sociales y el Niño \n",
      "costero, los que han tenido un impacto mayor a lo esperado.  \n",
      "vi. Las perspectivas de crecimiento de la actividad económica mundial apuntan hacia una moderación. Adicionalmente, se observa una mayor volatilidad en los mercados financieros internacionales, y subsiste el riesgo global por los efectos de los conflictos internacionales y un menor crecimiento de \n",
      "China . \n",
      " \n",
      "3. El Directorio se encuentra especialmente atento a la nueva información referida a la inflación y sus \n",
      "determinantes, incluyendo la evolución de las expectativas de inflación y la actividad económica para \n",
      "considerar, de ser necesario, modificaciones adicionales en la posición de la política monetaria. El Directorio \n",
      "reafirma su compromiso de adoptar las acciones necesarias para asegurar el retorno de la inflación al rango \n",
      "meta en el horizonte de proyección.  \n",
      " \n",
      "4. En la misma sesión, el Directorio acordó las siguientes tasas de interés de las operaciones en moneda \n",
      "nacional del BCRP con el sistema financiero bajo la modalidad de ventanilla.  \n",
      " \n",
      "i. Depósitos overnight: 4,25 por ciento anual.  \n",
      "ii. Operaciones de reporte directas de títulos valores y de moneda, y Créditos de Regulación Monetaria: i) 7,50 por ciento anual para las primeras 10 operaciones en los últimos 3 meses; y ii) la tasa de interés \n",
      "que fije el Comité de Operaciones Monetarias y Cambiarias para las operaciones adicionales a estas \n",
      "10 operaciones en los últimos 3 meses. Además, el Comité de Operaciones Monetarias y Cambiarias \n",
      "podrá establecer tasas superiores en función al monto de las operaciones.  \n",
      " \n",
      "5. La próxima sesión del Directorio en que se evaluará el Programa Monetario está programada para el 14 de diciembre de 2023.  \n",
      " Lima, 9  de noviembre de 2023.  \n",
      "\n"
     ]
    }
   ],
   "source": [
    "pdf_nota_2 = pdf.PdfReader(d_nota_2)\n",
    "print(len(pdf_nota_2.pages))\n",
    "\n",
    "nota_2_page = pdf_nota_2.pages[-1]\n",
    "nota_2 = nota_2_page.extract_text()\n",
    "print(nota_2)"
   ]
  },
  {
   "cell_type": "code",
   "execution_count": 49,
   "metadata": {},
   "outputs": [
    {
     "name": "stdout",
     "output_type": "stream",
     "text": [
      "1\n",
      "NOTA INFORMATIVA \n",
      " \n",
      "PROGRAMA MONETARIO  DE ENERO  2024  \n",
      "BCRP REDUJO  LA TASA DE INTERÉS  DE REFERENCIA A 6,50%  \n",
      " \n",
      "1. El Directorio del Banco Central de Reserva del Perú (BCRP) acordó reducir la tasa de interés de referencia \n",
      "en 25 puntos básicos a 6,50 por ciento. Esta decisión no necesariamente implica un ciclo de reducciones \n",
      "sucesivas en la tasa de interés. Los futuros ajustes en la tasa de referencia estarán condicionados a la nueva \n",
      "información sobre la inflación y sus determinantes .  \n",
      " \n",
      "2. La decisión de reducir la tasa de referencia tomó en cuenta la información y las proyecciones siguientes : \n",
      " \n",
      "i. En diciembre la tasa mensual de inflación fue 0,41 por ciento y la inflación sin alimentos y energía fue \n",
      "0,36 por ciento. La tasa de inflación a doce meses se redujo de 3,6 por ciento en noviembre a 3,2 por \n",
      "ciento en diciembre , mientras que la tasa de inflación sin alimentos y energía a doce meses disminuyó \n",
      "de 3,1 por ciento en noviembre a 2,9 por ciento en diciembre. Ambos indicadores vienen disminuyendo \n",
      "desde inicios de 2023, ubicándose la inflación sin alimentos  y energía dentro del rango meta.  \n",
      "ii. Luego del aumento significativo de las tasas de inflación a nivel global desde la segunda mitad de \n",
      "2021, en la mayoría de países se observa una tendencia decreciente. En el caso peruano, el descenso \n",
      "ha sido más marcado  entre junio y diciembre  de 2023, conforme se han disipado algunos de los efectos \n",
      "transitorios en la inflación por restricciones en la oferta de ciertos alimentos . \n",
      "iii. Las expectativas de inflación a doce meses se redujeron de 3,15 a 2,83 por ciento entre noviembre y \n",
      "diciembre, ubicándose dentro del rango meta de inflación.  \n",
      "iv. Se proyecta que la inflación interanual alcance el rango meta en los próximos meses . Sin embargo, \n",
      "existen riesgos asociados a factores climáticos provenientes principalmente del Fenómeno El Niño.  \n",
      "v. En diciembre, l os indicadores adelantados muestran resultados mixtos y los de expectativas sobre la \n",
      "economía mejoraron moderadamente, aunque la mayoría se mantiene en el tramo pesimista. La \n",
      "actividad económica y la demanda interna han sido afectadas por choques derivados de los conflictos sociales de inicios de 2023 y E l Niño costero.  \n",
      "vi. Las perspectivas de crecimiento de la actividad económica mundial apuntan hacia una moderación en un contexto de menores presiones inflacionarias. Adicionalmente, subsiste el riesgo global por los efectos de los conflictos internacionales y un menor crecim iento de China. \n",
      " \n",
      "3. El Directorio se encuentra especialmente atento a la nueva información referida a la inflación y sus \n",
      "determinantes, incluyendo la evolución de las expectativas de inflación y la actividad económica para considerar, de ser necesario, modificaciones adicionales en la posición de la po lítica monetaria. El Directorio \n",
      "reafirma su compromiso de adoptar las acciones necesarias para asegurar el retorno de la inflación al rango meta en el horizonte de proyección.  \n",
      " \n",
      "4. En la misma sesión, el Directorio acordó las siguientes tasas de interés de las operaciones en moneda nacional del BCRP con el sistema financiero bajo la modalidad de ventanilla.  \n",
      " \n",
      "i. Depósitos overnight: 3,75 por ciento anual.  \n",
      "ii. Operaciones de reporte directas de títulos valores y de moneda, y Créditos de Regulación Monetaria: i) 7,00 por ciento anual para las primeras 10 operaciones en los últimos 3 meses; y ii) la tasa de interés \n",
      "que fije el Comité de Operaciones Monetarias y Cambiarias para las operaciones adicionales a estas 10 operaciones en los últimos 3 meses. Además, el Comité de Operaciones Monetarias y Cambiarias podrá establecer tasas superiores en función al monto de las operaciones.  \n",
      " \n",
      "5. La próxima sesión del  Directorio en que se evaluará el Programa Monetario está programada para el 8 de \n",
      "febrero de 2024. \n",
      " \n",
      " \n",
      " \n",
      " \n",
      "Lima, 11 de enero de 2024. \n",
      "\n"
     ]
    }
   ],
   "source": [
    "pdf_nota_3 = pdf.PdfReader(d_nota_3)\n",
    "print(len(pdf_nota_3.pages))\n",
    "\n",
    "nota_3_page = pdf_nota_3.pages[-1]\n",
    "nota_3 = nota_3_page.extract_text()\n",
    "print(nota_3)"
   ]
  }
 ],
 "metadata": {
  "hide_input": false,
  "kernelspec": {
   "display_name": "Python 3 (ipykernel)",
   "language": "python",
   "name": "python3"
  },
  "language_info": {
   "codemirror_mode": {
    "name": "ipython",
    "version": 3
   },
   "file_extension": ".py",
   "mimetype": "text/x-python",
   "name": "python",
   "nbconvert_exporter": "python",
   "pygments_lexer": "ipython3",
   "version": "3.11.5"
  },
  "toc": {
   "base_numbering": 1,
   "nav_menu": {},
   "number_sections": true,
   "sideBar": true,
   "skip_h1_title": false,
   "title_cell": "Table of Contents",
   "title_sidebar": "Contents",
   "toc_cell": false,
   "toc_position": {},
   "toc_section_display": true,
   "toc_window_display": false
  }
 },
 "nbformat": 4,
 "nbformat_minor": 4
}
